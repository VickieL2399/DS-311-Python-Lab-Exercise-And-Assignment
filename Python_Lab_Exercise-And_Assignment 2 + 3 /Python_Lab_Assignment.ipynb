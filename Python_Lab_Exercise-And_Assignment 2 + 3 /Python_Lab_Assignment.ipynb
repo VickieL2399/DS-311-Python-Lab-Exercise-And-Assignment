{
 "cells": [
  {
   "cell_type": "markdown",
   "metadata": {},
   "source": [
    "# PyCity Schools Analysis\n",
    "\n",
    "* As a whole, schools with higher budgets, did not yield better test results. By contrast, schools with higher spending per student actually (\\\\$645 - 675) underperformed compared to schools with smaller budgets (\\\\$585 per student).\n",
    "\n",
    "* As a whole, smaller and medium sized schools dramatically out-performed large sized schools on passing math performances (89-91% passing vs 67%).\n",
    "\n",
    "* As a whole, charter schools out-performed the public district schools across all metrics. However, more analysis will be required to glean if the effect is due to school practices or the fact that charter schools tend to serve smaller student populations per school. \n",
    "---"
   ]
  },
  {
   "cell_type": "markdown",
   "metadata": {},
   "source": [
    "**Note:**\n",
    "Instructions have been included for each segment. You do not have to follow them exactly, but they are included to help you think through the steps."
   ]
  },
  {
   "cell_type": "code",
   "execution_count": 593,
   "metadata": {
    "ExecuteTime": {
     "end_time": "2022-08-06T06:08:31.925112Z",
     "start_time": "2022-08-06T06:08:29.337754Z"
    },
    "scrolled": true
   },
   "outputs": [
    {
     "data": {
      "text/html": [
       "<div>\n",
       "<style scoped>\n",
       "    .dataframe tbody tr th:only-of-type {\n",
       "        vertical-align: middle;\n",
       "    }\n",
       "\n",
       "    .dataframe tbody tr th {\n",
       "        vertical-align: top;\n",
       "    }\n",
       "\n",
       "    .dataframe thead th {\n",
       "        text-align: right;\n",
       "    }\n",
       "</style>\n",
       "<table border=\"1\" class=\"dataframe\">\n",
       "  <thead>\n",
       "    <tr style=\"text-align: right;\">\n",
       "      <th></th>\n",
       "      <th>Student ID</th>\n",
       "      <th>student_name</th>\n",
       "      <th>gender</th>\n",
       "      <th>grade</th>\n",
       "      <th>school_name</th>\n",
       "      <th>reading_score</th>\n",
       "      <th>math_score</th>\n",
       "      <th>School ID</th>\n",
       "      <th>type</th>\n",
       "      <th>size</th>\n",
       "      <th>budget</th>\n",
       "    </tr>\n",
       "  </thead>\n",
       "  <tbody>\n",
       "    <tr>\n",
       "      <th>0</th>\n",
       "      <td>0</td>\n",
       "      <td>Paul Bradley</td>\n",
       "      <td>M</td>\n",
       "      <td>9th</td>\n",
       "      <td>Huang High School</td>\n",
       "      <td>66</td>\n",
       "      <td>79</td>\n",
       "      <td>0</td>\n",
       "      <td>District</td>\n",
       "      <td>2917</td>\n",
       "      <td>1910635</td>\n",
       "    </tr>\n",
       "    <tr>\n",
       "      <th>1</th>\n",
       "      <td>1</td>\n",
       "      <td>Victor Smith</td>\n",
       "      <td>M</td>\n",
       "      <td>12th</td>\n",
       "      <td>Huang High School</td>\n",
       "      <td>94</td>\n",
       "      <td>61</td>\n",
       "      <td>0</td>\n",
       "      <td>District</td>\n",
       "      <td>2917</td>\n",
       "      <td>1910635</td>\n",
       "    </tr>\n",
       "    <tr>\n",
       "      <th>2</th>\n",
       "      <td>2</td>\n",
       "      <td>Kevin Rodriguez</td>\n",
       "      <td>M</td>\n",
       "      <td>12th</td>\n",
       "      <td>Huang High School</td>\n",
       "      <td>90</td>\n",
       "      <td>60</td>\n",
       "      <td>0</td>\n",
       "      <td>District</td>\n",
       "      <td>2917</td>\n",
       "      <td>1910635</td>\n",
       "    </tr>\n",
       "    <tr>\n",
       "      <th>3</th>\n",
       "      <td>3</td>\n",
       "      <td>Dr. Richard Scott</td>\n",
       "      <td>M</td>\n",
       "      <td>12th</td>\n",
       "      <td>Huang High School</td>\n",
       "      <td>67</td>\n",
       "      <td>58</td>\n",
       "      <td>0</td>\n",
       "      <td>District</td>\n",
       "      <td>2917</td>\n",
       "      <td>1910635</td>\n",
       "    </tr>\n",
       "    <tr>\n",
       "      <th>4</th>\n",
       "      <td>4</td>\n",
       "      <td>Bonnie Ray</td>\n",
       "      <td>F</td>\n",
       "      <td>9th</td>\n",
       "      <td>Huang High School</td>\n",
       "      <td>97</td>\n",
       "      <td>84</td>\n",
       "      <td>0</td>\n",
       "      <td>District</td>\n",
       "      <td>2917</td>\n",
       "      <td>1910635</td>\n",
       "    </tr>\n",
       "  </tbody>\n",
       "</table>\n",
       "</div>"
      ],
      "text/plain": [
       "   Student ID       student_name gender grade        school_name  \\\n",
       "0           0       Paul Bradley      M   9th  Huang High School   \n",
       "1           1       Victor Smith      M  12th  Huang High School   \n",
       "2           2    Kevin Rodriguez      M  12th  Huang High School   \n",
       "3           3  Dr. Richard Scott      M  12th  Huang High School   \n",
       "4           4         Bonnie Ray      F   9th  Huang High School   \n",
       "\n",
       "   reading_score  math_score  School ID      type  size   budget  \n",
       "0             66          79          0  District  2917  1910635  \n",
       "1             94          61          0  District  2917  1910635  \n",
       "2             90          60          0  District  2917  1910635  \n",
       "3             67          58          0  District  2917  1910635  \n",
       "4             97          84          0  District  2917  1910635  "
      ]
     },
     "execution_count": 593,
     "metadata": {},
     "output_type": "execute_result"
    }
   ],
   "source": [
    "# Dependencies and Setup\n",
    "import pandas as pd\n",
    "import numpy as np\n",
    "\n",
    "# File to Load (Remember to Change These)\n",
    "school_data_to_load = \"data/schools_complete.csv\"\n",
    "student_data_to_load = \"data/students_complete.csv\"\n",
    "\n",
    "# Read School and Student Data File and store into Pandas Data Frames\n",
    "school_data = pd.read_csv(school_data_to_load)\n",
    "student_data = pd.read_csv(student_data_to_load)\n",
    "\n",
    "# Combine the data into a single dataset\n",
    "school_data_complete = pd.merge(student_data, school_data, how=\"left\", on=[\"school_name\", \"school_name\"])\n",
    "school_data_complete.head()\n",
    "\n",
    "#school_data_complete.count()"
   ]
  },
  {
   "cell_type": "markdown",
   "metadata": {},
   "source": [
    "## District Summary\n",
    "\n",
    "* Calculate the total number of schools\n",
    "\n",
    "* Calculate the total number of students\n",
    "\n",
    "* Calculate the total budget\n",
    "\n",
    "* Calculate the average math score \n",
    "\n",
    "* Calculate the average reading score\n",
    "\n",
    "* Calculate the overall passing rate (overall average score), i.e. (avg. math score + avg. reading score)/2\n",
    "\n",
    "* Calculate the percentage of students with a passing math score (70 or greater)\n",
    "\n",
    "* Calculate the percentage of students with a passing reading score (70 or greater)\n",
    "\n",
    "* Create a dataframe to hold the above results\n",
    "\n",
    "* Optional: give the displayed data cleaner formatting"
   ]
  },
  {
   "cell_type": "code",
   "execution_count": 596,
   "metadata": {},
   "outputs": [
    {
     "name": "stdout",
     "output_type": "stream",
     "text": [
      "Total number of schools are 15\n",
      "Total number of students are 39170\n",
      "Total budget is 24649428\n",
      "Average math score 79\n",
      "Average reading score 82\n",
      "Overall average score 80.5\n",
      "Percentage of passing math (70 or greater) is: 75\n",
      "Percentage of passing reading score (70 or greater) is: 86\n"
     ]
    },
    {
     "data": {
      "text/html": [
       "<div>\n",
       "<style scoped>\n",
       "    .dataframe tbody tr th:only-of-type {\n",
       "        vertical-align: middle;\n",
       "    }\n",
       "\n",
       "    .dataframe tbody tr th {\n",
       "        vertical-align: top;\n",
       "    }\n",
       "\n",
       "    .dataframe thead th {\n",
       "        text-align: right;\n",
       "    }\n",
       "</style>\n",
       "<table border=\"1\" class=\"dataframe\">\n",
       "  <thead>\n",
       "    <tr style=\"text-align: right;\">\n",
       "      <th></th>\n",
       "      <th>Total schools</th>\n",
       "      <th>Total Students</th>\n",
       "      <th>Total budget</th>\n",
       "      <th>Average math score</th>\n",
       "      <th>Average reading score</th>\n",
       "      <th>Overall passing rate score</th>\n",
       "      <th>Percentage of passing math score</th>\n",
       "      <th>Percentage of passing rading score</th>\n",
       "    </tr>\n",
       "  </thead>\n",
       "  <tbody>\n",
       "    <tr>\n",
       "      <th>0</th>\n",
       "      <td>15</td>\n",
       "      <td>39170</td>\n",
       "      <td>24649428</td>\n",
       "      <td>79</td>\n",
       "      <td>82</td>\n",
       "      <td>80.5</td>\n",
       "      <td>75</td>\n",
       "      <td>86</td>\n",
       "    </tr>\n",
       "  </tbody>\n",
       "</table>\n",
       "</div>"
      ],
      "text/plain": [
       "   Total schools  Total Students  Total budget  Average math score  \\\n",
       "0             15           39170      24649428                  79   \n",
       "\n",
       "   Average reading score  Overall passing rate score  \\\n",
       "0                     82                        80.5   \n",
       "\n",
       "   Percentage of passing math score  Percentage of passing rading score  \n",
       "0                                75                                  86  "
      ]
     },
     "execution_count": 596,
     "metadata": {},
     "output_type": "execute_result"
    }
   ],
   "source": [
    "# Create a District Summary\n",
    "print(\"Total number of schools are\",school_num_nam)\n",
    "print(\"Total number of students are\",student_num)\n",
    "print(\"Total budget is\",budget)\n",
    "print(\"Average math score\",average_score_math)\n",
    "print(\"Average reading score\",average_score_read)\n",
    "print(\"Overall average score\",overall_average_score)\n",
    "print(\"Percentage of passing math (70 or greater) is:\",math_percentage)\n",
    "print(\"Percentage of passing reading score (70 or greater) is:\", reading_percentage)\n",
    "dataframe"
   ]
  },
  {
   "cell_type": "code",
   "execution_count": 597,
   "metadata": {},
   "outputs": [],
   "source": [
    "# Total number of schools\n",
    "school_num_nam = len(school_data_complete['school_name'].unique())"
   ]
  },
  {
   "cell_type": "code",
   "execution_count": 598,
   "metadata": {},
   "outputs": [],
   "source": [
    "# Total number of students\n",
    "\n",
    "student_num = len(school_data_complete['Student ID'])\n"
   ]
  },
  {
   "cell_type": "code",
   "execution_count": 599,
   "metadata": {},
   "outputs": [],
   "source": [
    "# Total budget\n",
    "budget = (school_data_complete['budget'].unique().sum())\n"
   ]
  },
  {
   "cell_type": "code",
   "execution_count": 600,
   "metadata": {},
   "outputs": [],
   "source": [
    "# Average math score\n",
    "\n",
    "average_score_math = round((school_data_complete['math_score'].mean()))"
   ]
  },
  {
   "cell_type": "code",
   "execution_count": 601,
   "metadata": {},
   "outputs": [],
   "source": [
    "# Average reading score\n",
    "\n",
    "average_score_read = round((school_data_complete['reading_score'].mean()))\n"
   ]
  },
  {
   "cell_type": "code",
   "execution_count": 602,
   "metadata": {},
   "outputs": [],
   "source": [
    "# Overall average score\n",
    "\n",
    "overall_average_score = (average_score_math+average_score_read)/2\n"
   ]
  },
  {
   "cell_type": "code",
   "execution_count": 603,
   "metadata": {},
   "outputs": [],
   "source": [
    "#Percentage of passing math (70 or greater)\n",
    "\n",
    "math_percentage = round(len(school_data_complete[school_data_complete[\"math_score\"] >= 70]) / student_num * 100)\n",
    "\n"
   ]
  },
  {
   "cell_type": "code",
   "execution_count": 604,
   "metadata": {},
   "outputs": [],
   "source": [
    "#Percentage of passing reading score (70 or greater)\n",
    "\n",
    "reading_percentage = round(len(school_data_complete[school_data_complete[\"reading_score\"] >= 70]) / student_num * 100)\n"
   ]
  },
  {
   "cell_type": "code",
   "execution_count": 605,
   "metadata": {},
   "outputs": [
    {
     "data": {
      "text/html": [
       "<div>\n",
       "<style scoped>\n",
       "    .dataframe tbody tr th:only-of-type {\n",
       "        vertical-align: middle;\n",
       "    }\n",
       "\n",
       "    .dataframe tbody tr th {\n",
       "        vertical-align: top;\n",
       "    }\n",
       "\n",
       "    .dataframe thead th {\n",
       "        text-align: right;\n",
       "    }\n",
       "</style>\n",
       "<table border=\"1\" class=\"dataframe\">\n",
       "  <thead>\n",
       "    <tr style=\"text-align: right;\">\n",
       "      <th></th>\n",
       "      <th>Total schools</th>\n",
       "      <th>Total Students</th>\n",
       "      <th>Total budget</th>\n",
       "      <th>Average math score</th>\n",
       "      <th>Average reading score</th>\n",
       "      <th>Overall passing rate score</th>\n",
       "      <th>Percentage of passing math score</th>\n",
       "      <th>Percentage of passing rading score</th>\n",
       "    </tr>\n",
       "  </thead>\n",
       "  <tbody>\n",
       "    <tr>\n",
       "      <th>0</th>\n",
       "      <td>15</td>\n",
       "      <td>39170</td>\n",
       "      <td>24649428</td>\n",
       "      <td>79</td>\n",
       "      <td>82</td>\n",
       "      <td>80.5</td>\n",
       "      <td>75</td>\n",
       "      <td>86</td>\n",
       "    </tr>\n",
       "  </tbody>\n",
       "</table>\n",
       "</div>"
      ],
      "text/plain": [
       "   Total schools  Total Students  Total budget  Average math score  \\\n",
       "0             15           39170      24649428                  79   \n",
       "\n",
       "   Average reading score  Overall passing rate score  \\\n",
       "0                     82                        80.5   \n",
       "\n",
       "   Percentage of passing math score  Percentage of passing rading score  \n",
       "0                                75                                  86  "
      ]
     },
     "execution_count": 605,
     "metadata": {},
     "output_type": "execute_result"
    }
   ],
   "source": [
    "#Create a dataframe to hold the above results\n",
    "dic_overall = {\n",
    "    \"Total schools\": [school_num_nam],\\\n",
    "    \"Total Students\": [student_num],\\\n",
    "    \"Total budget\": [budget],\\\n",
    "    \"Average math score\":[average_score_math],\\\n",
    "    \"Average reading score\":[average_score_read],\\\n",
    "    \"Overall passing rate score\":[overall_average_score],\\\n",
    "    \"Percentage of passing math score\":[math_percentage],\\\n",
    "    \"Percentage of passing rading score\":[reading_percentage]\n",
    "}\n",
    "dataframe = pd.DataFrame(dic_overall)\n",
    "dataframe"
   ]
  },
  {
   "cell_type": "markdown",
   "metadata": {},
   "source": [
    "## School Summary"
   ]
  },
  {
   "cell_type": "markdown",
   "metadata": {},
   "source": [
    "* Create an overview table that summarizes key metrics about each school, including:\n",
    "  * School Name\n",
    "  * School Type\n",
    "  * Total Students\n",
    "  * Total School Budget\n",
    "  * Per Student Budget\n",
    "  * Average Math Score\n",
    "  * Average Reading Score\n",
    "  * % Passing Math\n",
    "  * % Passing Reading\n",
    "  * Overall Passing Rate (Average of the above two)\n",
    "  \n",
    "* Create a dataframe to hold the above results"
   ]
  },
  {
   "cell_type": "code",
   "execution_count": 606,
   "metadata": {},
   "outputs": [
    {
     "data": {
      "text/html": [
       "<div>\n",
       "<style scoped>\n",
       "    .dataframe tbody tr th:only-of-type {\n",
       "        vertical-align: middle;\n",
       "    }\n",
       "\n",
       "    .dataframe tbody tr th {\n",
       "        vertical-align: top;\n",
       "    }\n",
       "\n",
       "    .dataframe thead th {\n",
       "        text-align: right;\n",
       "    }\n",
       "</style>\n",
       "<table border=\"1\" class=\"dataframe\">\n",
       "  <thead>\n",
       "    <tr style=\"text-align: right;\">\n",
       "      <th></th>\n",
       "      <th>School Type</th>\n",
       "      <th>Total Students</th>\n",
       "      <th>Total School Budget $</th>\n",
       "      <th>Per Student Budget $</th>\n",
       "      <th>Average Math Score</th>\n",
       "      <th>Average Reading Score</th>\n",
       "      <th>Passing math %</th>\n",
       "      <th>Passing reading %</th>\n",
       "      <th>Overall passing rate</th>\n",
       "    </tr>\n",
       "    <tr>\n",
       "      <th>school_name</th>\n",
       "      <th></th>\n",
       "      <th></th>\n",
       "      <th></th>\n",
       "      <th></th>\n",
       "      <th></th>\n",
       "      <th></th>\n",
       "      <th></th>\n",
       "      <th></th>\n",
       "      <th></th>\n",
       "    </tr>\n",
       "  </thead>\n",
       "  <tbody>\n",
       "    <tr>\n",
       "      <th>Bailey High School</th>\n",
       "      <td>District</td>\n",
       "      <td>4976</td>\n",
       "      <td>3124928</td>\n",
       "      <td>628.0</td>\n",
       "      <td>77.0</td>\n",
       "      <td>81.0</td>\n",
       "      <td>67.0</td>\n",
       "      <td>82.0</td>\n",
       "      <td>74.0</td>\n",
       "    </tr>\n",
       "    <tr>\n",
       "      <th>Cabrera High School</th>\n",
       "      <td>Charter</td>\n",
       "      <td>1858</td>\n",
       "      <td>1081356</td>\n",
       "      <td>582.0</td>\n",
       "      <td>83.0</td>\n",
       "      <td>84.0</td>\n",
       "      <td>94.0</td>\n",
       "      <td>97.0</td>\n",
       "      <td>96.0</td>\n",
       "    </tr>\n",
       "    <tr>\n",
       "      <th>Figueroa High School</th>\n",
       "      <td>District</td>\n",
       "      <td>2949</td>\n",
       "      <td>1884411</td>\n",
       "      <td>639.0</td>\n",
       "      <td>77.0</td>\n",
       "      <td>81.0</td>\n",
       "      <td>66.0</td>\n",
       "      <td>81.0</td>\n",
       "      <td>74.0</td>\n",
       "    </tr>\n",
       "    <tr>\n",
       "      <th>Ford High School</th>\n",
       "      <td>District</td>\n",
       "      <td>2739</td>\n",
       "      <td>1763916</td>\n",
       "      <td>644.0</td>\n",
       "      <td>77.0</td>\n",
       "      <td>81.0</td>\n",
       "      <td>68.0</td>\n",
       "      <td>79.0</td>\n",
       "      <td>74.0</td>\n",
       "    </tr>\n",
       "    <tr>\n",
       "      <th>Griffin High School</th>\n",
       "      <td>Charter</td>\n",
       "      <td>1468</td>\n",
       "      <td>917500</td>\n",
       "      <td>625.0</td>\n",
       "      <td>83.0</td>\n",
       "      <td>84.0</td>\n",
       "      <td>93.0</td>\n",
       "      <td>97.0</td>\n",
       "      <td>95.0</td>\n",
       "    </tr>\n",
       "    <tr>\n",
       "      <th>Hernandez High School</th>\n",
       "      <td>District</td>\n",
       "      <td>4635</td>\n",
       "      <td>3022020</td>\n",
       "      <td>652.0</td>\n",
       "      <td>77.0</td>\n",
       "      <td>81.0</td>\n",
       "      <td>67.0</td>\n",
       "      <td>81.0</td>\n",
       "      <td>74.0</td>\n",
       "    </tr>\n",
       "    <tr>\n",
       "      <th>Holden High School</th>\n",
       "      <td>Charter</td>\n",
       "      <td>427</td>\n",
       "      <td>248087</td>\n",
       "      <td>581.0</td>\n",
       "      <td>84.0</td>\n",
       "      <td>84.0</td>\n",
       "      <td>93.0</td>\n",
       "      <td>96.0</td>\n",
       "      <td>94.0</td>\n",
       "    </tr>\n",
       "    <tr>\n",
       "      <th>Huang High School</th>\n",
       "      <td>District</td>\n",
       "      <td>2917</td>\n",
       "      <td>1910635</td>\n",
       "      <td>655.0</td>\n",
       "      <td>77.0</td>\n",
       "      <td>81.0</td>\n",
       "      <td>66.0</td>\n",
       "      <td>81.0</td>\n",
       "      <td>74.0</td>\n",
       "    </tr>\n",
       "    <tr>\n",
       "      <th>Johnson High School</th>\n",
       "      <td>District</td>\n",
       "      <td>4761</td>\n",
       "      <td>3094650</td>\n",
       "      <td>650.0</td>\n",
       "      <td>77.0</td>\n",
       "      <td>81.0</td>\n",
       "      <td>66.0</td>\n",
       "      <td>81.0</td>\n",
       "      <td>74.0</td>\n",
       "    </tr>\n",
       "    <tr>\n",
       "      <th>Pena High School</th>\n",
       "      <td>Charter</td>\n",
       "      <td>962</td>\n",
       "      <td>585858</td>\n",
       "      <td>609.0</td>\n",
       "      <td>84.0</td>\n",
       "      <td>84.0</td>\n",
       "      <td>95.0</td>\n",
       "      <td>96.0</td>\n",
       "      <td>96.0</td>\n",
       "    </tr>\n",
       "    <tr>\n",
       "      <th>Rodriguez High School</th>\n",
       "      <td>District</td>\n",
       "      <td>3999</td>\n",
       "      <td>2547363</td>\n",
       "      <td>637.0</td>\n",
       "      <td>77.0</td>\n",
       "      <td>81.0</td>\n",
       "      <td>66.0</td>\n",
       "      <td>80.0</td>\n",
       "      <td>73.0</td>\n",
       "    </tr>\n",
       "    <tr>\n",
       "      <th>Shelton High School</th>\n",
       "      <td>Charter</td>\n",
       "      <td>1761</td>\n",
       "      <td>1056600</td>\n",
       "      <td>600.0</td>\n",
       "      <td>83.0</td>\n",
       "      <td>84.0</td>\n",
       "      <td>94.0</td>\n",
       "      <td>96.0</td>\n",
       "      <td>95.0</td>\n",
       "    </tr>\n",
       "    <tr>\n",
       "      <th>Thomas High School</th>\n",
       "      <td>Charter</td>\n",
       "      <td>1635</td>\n",
       "      <td>1043130</td>\n",
       "      <td>638.0</td>\n",
       "      <td>83.0</td>\n",
       "      <td>84.0</td>\n",
       "      <td>93.0</td>\n",
       "      <td>97.0</td>\n",
       "      <td>95.0</td>\n",
       "    </tr>\n",
       "    <tr>\n",
       "      <th>Wilson High School</th>\n",
       "      <td>Charter</td>\n",
       "      <td>2283</td>\n",
       "      <td>1319574</td>\n",
       "      <td>578.0</td>\n",
       "      <td>83.0</td>\n",
       "      <td>84.0</td>\n",
       "      <td>94.0</td>\n",
       "      <td>97.0</td>\n",
       "      <td>96.0</td>\n",
       "    </tr>\n",
       "    <tr>\n",
       "      <th>Wright High School</th>\n",
       "      <td>Charter</td>\n",
       "      <td>1800</td>\n",
       "      <td>1049400</td>\n",
       "      <td>583.0</td>\n",
       "      <td>84.0</td>\n",
       "      <td>84.0</td>\n",
       "      <td>93.0</td>\n",
       "      <td>97.0</td>\n",
       "      <td>95.0</td>\n",
       "    </tr>\n",
       "  </tbody>\n",
       "</table>\n",
       "</div>"
      ],
      "text/plain": [
       "                      School Type  Total Students  Total School Budget $  \\\n",
       "school_name                                                                \n",
       "Bailey High School       District            4976                3124928   \n",
       "Cabrera High School       Charter            1858                1081356   \n",
       "Figueroa High School     District            2949                1884411   \n",
       "Ford High School         District            2739                1763916   \n",
       "Griffin High School       Charter            1468                 917500   \n",
       "Hernandez High School    District            4635                3022020   \n",
       "Holden High School        Charter             427                 248087   \n",
       "Huang High School        District            2917                1910635   \n",
       "Johnson High School      District            4761                3094650   \n",
       "Pena High School          Charter             962                 585858   \n",
       "Rodriguez High School    District            3999                2547363   \n",
       "Shelton High School       Charter            1761                1056600   \n",
       "Thomas High School        Charter            1635                1043130   \n",
       "Wilson High School        Charter            2283                1319574   \n",
       "Wright High School        Charter            1800                1049400   \n",
       "\n",
       "                       Per Student Budget $  Average Math Score  \\\n",
       "school_name                                                       \n",
       "Bailey High School                    628.0                77.0   \n",
       "Cabrera High School                   582.0                83.0   \n",
       "Figueroa High School                  639.0                77.0   \n",
       "Ford High School                      644.0                77.0   \n",
       "Griffin High School                   625.0                83.0   \n",
       "Hernandez High School                 652.0                77.0   \n",
       "Holden High School                    581.0                84.0   \n",
       "Huang High School                     655.0                77.0   \n",
       "Johnson High School                   650.0                77.0   \n",
       "Pena High School                      609.0                84.0   \n",
       "Rodriguez High School                 637.0                77.0   \n",
       "Shelton High School                   600.0                83.0   \n",
       "Thomas High School                    638.0                83.0   \n",
       "Wilson High School                    578.0                83.0   \n",
       "Wright High School                    583.0                84.0   \n",
       "\n",
       "                       Average Reading Score  Passing math %  \\\n",
       "school_name                                                    \n",
       "Bailey High School                      81.0            67.0   \n",
       "Cabrera High School                     84.0            94.0   \n",
       "Figueroa High School                    81.0            66.0   \n",
       "Ford High School                        81.0            68.0   \n",
       "Griffin High School                     84.0            93.0   \n",
       "Hernandez High School                   81.0            67.0   \n",
       "Holden High School                      84.0            93.0   \n",
       "Huang High School                       81.0            66.0   \n",
       "Johnson High School                     81.0            66.0   \n",
       "Pena High School                        84.0            95.0   \n",
       "Rodriguez High School                   81.0            66.0   \n",
       "Shelton High School                     84.0            94.0   \n",
       "Thomas High School                      84.0            93.0   \n",
       "Wilson High School                      84.0            94.0   \n",
       "Wright High School                      84.0            93.0   \n",
       "\n",
       "                       Passing reading %  Overall passing rate  \n",
       "school_name                                                     \n",
       "Bailey High School                  82.0                  74.0  \n",
       "Cabrera High School                 97.0                  96.0  \n",
       "Figueroa High School                81.0                  74.0  \n",
       "Ford High School                    79.0                  74.0  \n",
       "Griffin High School                 97.0                  95.0  \n",
       "Hernandez High School               81.0                  74.0  \n",
       "Holden High School                  96.0                  94.0  \n",
       "Huang High School                   81.0                  74.0  \n",
       "Johnson High School                 81.0                  74.0  \n",
       "Pena High School                    96.0                  96.0  \n",
       "Rodriguez High School               80.0                  73.0  \n",
       "Shelton High School                 96.0                  95.0  \n",
       "Thomas High School                  97.0                  95.0  \n",
       "Wilson High School                  97.0                  96.0  \n",
       "Wright High School                  97.0                  95.0  "
      ]
     },
     "execution_count": 606,
     "metadata": {},
     "output_type": "execute_result"
    }
   ],
   "source": [
    "school_name = school_data_complete.groupby('school_name')\n",
    "\n",
    "school_type = school_name['type'].first()\n",
    "total_students = school_name['student_name'].count()\n",
    "total_school_budget = school_name['budget'].first()\n",
    "Per_Student_Budget =  total_school_budget / total_students\n",
    "\n",
    "\n",
    "Average_Math_Score = round(by_school['math_score'].mean())\n",
    "Average_Reading_Score = round(by_school['reading_score'].mean())\n",
    "\n",
    "passing_math = round(school_data_complete[school_data_complete['math_score'] >= 70].groupby('school_name')['student_name'].count() /total_students * 100)\n",
    "passing_reading = round(school_data_complete[school_data_complete['reading_score'] >= 70].groupby('school_name')['student_name'].count() / total_students * 100)\n",
    "overall_passing_rate = round((passing_math + passing_reading) / 2)\n",
    "\n",
    "\n",
    "\n",
    "school_overview_table = {\n",
    "    'School Type': school_type,\n",
    "    'Total Students': total_students,\n",
    "    'Total School Budget $': total_school_budget, \n",
    "    'Per Student Budget $': Per_Student_Budget,\n",
    "    'Average Math Score': Average_Math_Score,\n",
    "    'Average Reading Score': Average_Reading_Score,\n",
    "    'Passing math %': passing_math,\n",
    "    'Passing reading %': passing_reading,\n",
    "    'Overall passing rate': overall_passing_rate,\n",
    "}\n",
    "\n",
    "data = pd.DataFrame(school_overview_table)\n",
    "data\n"
   ]
  },
  {
   "cell_type": "markdown",
   "metadata": {},
   "source": [
    "### Top Performing Schools (By Passing Rate)"
   ]
  },
  {
   "cell_type": "markdown",
   "metadata": {},
   "source": [
    "* Sort and display the top five schools in overall passing rate"
   ]
  },
  {
   "cell_type": "code",
   "execution_count": 607,
   "metadata": {},
   "outputs": [
    {
     "data": {
      "text/plain": [
       "school_name\n",
       "Cabrera High School    96.0\n",
       "Pena High School       96.0\n",
       "Wilson High School     96.0\n",
       "Griffin High School    95.0\n",
       "Shelton High School    95.0\n",
       "Name: Overall passing rate, dtype: float64"
      ]
     },
     "execution_count": 607,
     "metadata": {},
     "output_type": "execute_result"
    }
   ],
   "source": [
    "#  Sort and display the top five schools in overall passing rate\n",
    "\n",
    "top_performing_schools = data['Overall passing rate'].sort_values(ascending=False).head()\n",
    "top_performing_schools\n"
   ]
  },
  {
   "cell_type": "code",
   "execution_count": 608,
   "metadata": {
    "scrolled": true
   },
   "outputs": [
    {
     "data": {
      "text/plain": [
       "24649428"
      ]
     },
     "execution_count": 608,
     "metadata": {},
     "output_type": "execute_result"
    }
   ],
   "source": [
    "# Calculate total school budget\n",
    "total_school_budget = data['Total School Budget $'].sum()\n",
    "total_school_budget"
   ]
  },
  {
   "cell_type": "code",
   "execution_count": 609,
   "metadata": {},
   "outputs": [
    {
     "data": {
      "text/plain": [
       "school_name\n",
       "Huang High School        655.0\n",
       "Hernandez High School    652.0\n",
       "Johnson High School      650.0\n",
       "Ford High School         644.0\n",
       "Figueroa High School     639.0\n",
       "Name: Per Student Budget $, dtype: float64"
      ]
     },
     "execution_count": 609,
     "metadata": {},
     "output_type": "execute_result"
    }
   ],
   "source": [
    "# Calculate per student budget\n",
    "\n",
    "per_student_budget = data['Per Student Budget $'].sort_values(ascending=False).head()\n",
    "per_student_budget"
   ]
  },
  {
   "cell_type": "code",
   "execution_count": 610,
   "metadata": {},
   "outputs": [
    {
     "name": "stdout",
     "output_type": "stream",
     "text": [
      "Average math score: 80.4\n",
      "Average reading score: 82.6\n"
     ]
    }
   ],
   "source": [
    "# Cacluate the avg math and reading score\n",
    "avg_math_score = data['Average Math Score'].mean()\n",
    "avg_reading_score = data['Average Reading Score'].mean()\n",
    "print('Average math score:', avg_math_score)\n",
    "print('Average reading score:', avg_reading_score)\n"
   ]
  },
  {
   "cell_type": "markdown",
   "metadata": {},
   "source": [
    "#### Find the passing rate for math and reading (above 70 points)"
   ]
  },
  {
   "cell_type": "code",
   "execution_count": 611,
   "metadata": {},
   "outputs": [
    {
     "name": "stdout",
     "output_type": "stream",
     "text": [
      "The total counts of math result: 29370\n",
      "school_name\n",
      "Bailey High School       3318\n",
      "Cabrera High School      1749\n",
      "Figueroa High School     1946\n",
      "Ford High School         1871\n",
      "Griffin High School      1371\n",
      "Hernandez High School    3094\n",
      "Holden High School        395\n",
      "Huang High School        1916\n",
      "Johnson High School      3145\n",
      "Pena High School          910\n",
      "Rodriguez High School    2654\n",
      "Shelton High School      1653\n",
      "Thomas High School       1525\n",
      "Wilson High School       2143\n",
      "Wright High School       1680\n",
      "Name: student_name, dtype: int64\n",
      "The math passing rate: % 75\n"
     ]
    }
   ],
   "source": [
    "# Find the total counts of math result\n",
    "total_counts_math = school_data_complete[school_data_complete['math_score'] >= 70].count()\n",
    "print(\"The total counts of math result:\", total_counts_math[1])\n",
    "\n",
    "# Find the counts for math result in each school that pass 70 or higher\n",
    "\n",
    "passed_math = school_data_complete[school_data_complete['math_score'] >= 70].groupby('school_name')['student_name'].count()\n",
    "print(passed_math)\n",
    "\n",
    "#Calculate the math passing rate\n",
    "math_percentage = round(len(school_data_complete[school_data_complete[\"math_score\"] >= 70]) / student_num * 100)\n",
    "print('The math passing rate: %',math_percentage)\n"
   ]
  },
  {
   "cell_type": "code",
   "execution_count": 612,
   "metadata": {},
   "outputs": [
    {
     "name": "stdout",
     "output_type": "stream",
     "text": [
      "The total counts of reading result: 33610\n",
      "school_name\n",
      "Bailey High School       4077\n",
      "Cabrera High School      1803\n",
      "Figueroa High School     2381\n",
      "Ford High School         2172\n",
      "Griffin High School      1426\n",
      "Hernandez High School    3748\n",
      "Holden High School        411\n",
      "Huang High School        2372\n",
      "Johnson High School      3867\n",
      "Pena High School          923\n",
      "Rodriguez High School    3208\n",
      "Shelton High School      1688\n",
      "Thomas High School       1591\n",
      "Wilson High School       2204\n",
      "Wright High School       1739\n",
      "Name: student_name, dtype: int64\n",
      "The reading passing rate: % 86\n"
     ]
    }
   ],
   "source": [
    "# Find the total counts of read result\n",
    "total_counts_reading = school_data_complete[school_data_complete['reading_score'] >= 70].count()\n",
    "print(\"The total counts of reading result:\", total_counts_reading[1])\n",
    "\n",
    "# Find the counts for read result in each school that pass 70 or higher\n",
    "passed_reading = school_data_complete[school_data_complete['reading_score'] >= 70].groupby('school_name')['student_name'].count()\n",
    "print(passed_reading)\n",
    "\n",
    "# Calculate the read passing rate\n",
    "\n",
    "reading_percentage = round(len(school_data_complete[school_data_complete[\"reading_score\"] >= 70]) / student_num * 100)\n",
    "print('The reading passing rate: %',reading_percentage)"
   ]
  },
  {
   "cell_type": "code",
   "execution_count": 613,
   "metadata": {},
   "outputs": [
    {
     "data": {
      "text/plain": [
       "80"
      ]
     },
     "execution_count": 613,
     "metadata": {},
     "output_type": "execute_result"
    }
   ],
   "source": [
    "# Calculate the overall passing rate (average of the math and reading passing rate)\n",
    "\n",
    "overall_passing_rate = round((math_percentage + reading_percentage) / 2)\n",
    "overall_passing_rate\n"
   ]
  },
  {
   "cell_type": "markdown",
   "metadata": {},
   "source": [
    "### Bottom Performing Schools (By Passing Rate)"
   ]
  },
  {
   "cell_type": "markdown",
   "metadata": {},
   "source": [
    "* Sort and display the five worst-performing schools"
   ]
  },
  {
   "cell_type": "code",
   "execution_count": 614,
   "metadata": {},
   "outputs": [
    {
     "data": {
      "text/plain": [
       "school_name\n",
       "Ford High School         74.0\n",
       "Hernandez High School    74.0\n",
       "Huang High School        74.0\n",
       "Johnson High School      74.0\n",
       "Rodriguez High School    73.0\n",
       "Name: Overall passing rate, dtype: float64"
      ]
     },
     "execution_count": 614,
     "metadata": {},
     "output_type": "execute_result"
    }
   ],
   "source": [
    "#  Sort and display the worst five schools in overall passing rate\n",
    "worst_performing_schools = data['Overall passing rate'].sort_values(ascending=False).tail()\n",
    "worst_performing_schools\n",
    "\n"
   ]
  },
  {
   "cell_type": "markdown",
   "metadata": {
    "collapsed": true
   },
   "source": [
    "## Math Scores by Grade"
   ]
  },
  {
   "cell_type": "markdown",
   "metadata": {},
   "source": [
    "* Create a table that lists the average Reading Score for students of each grade level (9th, 10th, 11th, 12th) at each school.\n",
    "\n",
    "  * Create a pandas series for each grade. Hint: use a conditional statement.\n",
    "  \n",
    "  * Group each series by school\n",
    "  \n",
    "  * Combine the series into a dataframe\n",
    "  \n",
    "  * Optional: give the displayed data cleaner formatting"
   ]
  },
  {
   "cell_type": "code",
   "execution_count": 615,
   "metadata": {},
   "outputs": [
    {
     "data": {
      "text/html": [
       "<div>\n",
       "<style scoped>\n",
       "    .dataframe tbody tr th:only-of-type {\n",
       "        vertical-align: middle;\n",
       "    }\n",
       "\n",
       "    .dataframe tbody tr th {\n",
       "        vertical-align: top;\n",
       "    }\n",
       "\n",
       "    .dataframe thead th {\n",
       "        text-align: right;\n",
       "    }\n",
       "</style>\n",
       "<table border=\"1\" class=\"dataframe\">\n",
       "  <thead>\n",
       "    <tr style=\"text-align: right;\">\n",
       "      <th>school_name</th>\n",
       "      <th>Bailey High School</th>\n",
       "      <th>Cabrera High School</th>\n",
       "      <th>Figueroa High School</th>\n",
       "      <th>Ford High School</th>\n",
       "      <th>Griffin High School</th>\n",
       "      <th>Hernandez High School</th>\n",
       "      <th>Holden High School</th>\n",
       "      <th>Huang High School</th>\n",
       "      <th>Johnson High School</th>\n",
       "      <th>Pena High School</th>\n",
       "      <th>Rodriguez High School</th>\n",
       "      <th>Shelton High School</th>\n",
       "      <th>Thomas High School</th>\n",
       "      <th>Wilson High School</th>\n",
       "      <th>Wright High School</th>\n",
       "    </tr>\n",
       "    <tr>\n",
       "      <th>grade</th>\n",
       "      <th></th>\n",
       "      <th></th>\n",
       "      <th></th>\n",
       "      <th></th>\n",
       "      <th></th>\n",
       "      <th></th>\n",
       "      <th></th>\n",
       "      <th></th>\n",
       "      <th></th>\n",
       "      <th></th>\n",
       "      <th></th>\n",
       "      <th></th>\n",
       "      <th></th>\n",
       "      <th></th>\n",
       "      <th></th>\n",
       "    </tr>\n",
       "  </thead>\n",
       "  <tbody>\n",
       "    <tr>\n",
       "      <th>10th</th>\n",
       "      <td>77.0</td>\n",
       "      <td>83.0</td>\n",
       "      <td>77.0</td>\n",
       "      <td>78.0</td>\n",
       "      <td>84.0</td>\n",
       "      <td>77.0</td>\n",
       "      <td>83.0</td>\n",
       "      <td>76.0</td>\n",
       "      <td>77.0</td>\n",
       "      <td>83.0</td>\n",
       "      <td>77.0</td>\n",
       "      <td>83.0</td>\n",
       "      <td>83.0</td>\n",
       "      <td>84.0</td>\n",
       "      <td>84.0</td>\n",
       "    </tr>\n",
       "    <tr>\n",
       "      <th>11th</th>\n",
       "      <td>78.0</td>\n",
       "      <td>83.0</td>\n",
       "      <td>77.0</td>\n",
       "      <td>77.0</td>\n",
       "      <td>84.0</td>\n",
       "      <td>77.0</td>\n",
       "      <td>85.0</td>\n",
       "      <td>76.0</td>\n",
       "      <td>77.0</td>\n",
       "      <td>84.0</td>\n",
       "      <td>76.0</td>\n",
       "      <td>83.0</td>\n",
       "      <td>83.0</td>\n",
       "      <td>83.0</td>\n",
       "      <td>84.0</td>\n",
       "    </tr>\n",
       "    <tr>\n",
       "      <th>12th</th>\n",
       "      <td>76.0</td>\n",
       "      <td>83.0</td>\n",
       "      <td>77.0</td>\n",
       "      <td>76.0</td>\n",
       "      <td>83.0</td>\n",
       "      <td>77.0</td>\n",
       "      <td>83.0</td>\n",
       "      <td>77.0</td>\n",
       "      <td>77.0</td>\n",
       "      <td>84.0</td>\n",
       "      <td>78.0</td>\n",
       "      <td>84.0</td>\n",
       "      <td>83.0</td>\n",
       "      <td>83.0</td>\n",
       "      <td>84.0</td>\n",
       "    </tr>\n",
       "    <tr>\n",
       "      <th>9th</th>\n",
       "      <td>77.0</td>\n",
       "      <td>83.0</td>\n",
       "      <td>76.0</td>\n",
       "      <td>77.0</td>\n",
       "      <td>82.0</td>\n",
       "      <td>77.0</td>\n",
       "      <td>84.0</td>\n",
       "      <td>77.0</td>\n",
       "      <td>77.0</td>\n",
       "      <td>84.0</td>\n",
       "      <td>77.0</td>\n",
       "      <td>83.0</td>\n",
       "      <td>84.0</td>\n",
       "      <td>83.0</td>\n",
       "      <td>83.0</td>\n",
       "    </tr>\n",
       "  </tbody>\n",
       "</table>\n",
       "</div>"
      ],
      "text/plain": [
       "school_name  Bailey High School  Cabrera High School  Figueroa High School  \\\n",
       "grade                                                                        \n",
       "10th                       77.0                 83.0                  77.0   \n",
       "11th                       78.0                 83.0                  77.0   \n",
       "12th                       76.0                 83.0                  77.0   \n",
       "9th                        77.0                 83.0                  76.0   \n",
       "\n",
       "school_name  Ford High School  Griffin High School  Hernandez High School  \\\n",
       "grade                                                                       \n",
       "10th                     78.0                 84.0                   77.0   \n",
       "11th                     77.0                 84.0                   77.0   \n",
       "12th                     76.0                 83.0                   77.0   \n",
       "9th                      77.0                 82.0                   77.0   \n",
       "\n",
       "school_name  Holden High School  Huang High School  Johnson High School  \\\n",
       "grade                                                                     \n",
       "10th                       83.0               76.0                 77.0   \n",
       "11th                       85.0               76.0                 77.0   \n",
       "12th                       83.0               77.0                 77.0   \n",
       "9th                        84.0               77.0                 77.0   \n",
       "\n",
       "school_name  Pena High School  Rodriguez High School  Shelton High School  \\\n",
       "grade                                                                       \n",
       "10th                     83.0                   77.0                 83.0   \n",
       "11th                     84.0                   76.0                 83.0   \n",
       "12th                     84.0                   78.0                 84.0   \n",
       "9th                      84.0                   77.0                 83.0   \n",
       "\n",
       "school_name  Thomas High School  Wilson High School  Wright High School  \n",
       "grade                                                                    \n",
       "10th                       83.0                84.0                84.0  \n",
       "11th                       83.0                83.0                84.0  \n",
       "12th                       83.0                83.0                84.0  \n",
       "9th                        84.0                83.0                83.0  "
      ]
     },
     "execution_count": 615,
     "metadata": {},
     "output_type": "execute_result"
    }
   ],
   "source": [
    "# Create table that lists the average math score for each school of each grade level.\n",
    "\n",
    "\n",
    "math_scores_by_grade = round(school_data_complete.groupby(['grade','school_name'])['math_score'].mean().unstack())\n",
    "math_scores_by_grade\n"
   ]
  },
  {
   "cell_type": "code",
   "execution_count": 616,
   "metadata": {},
   "outputs": [
    {
     "data": {
      "text/plain": [
       "school_name\n",
       "Bailey High School       77.0\n",
       "Cabrera High School      83.0\n",
       "Figueroa High School     76.0\n",
       "Ford High School         77.0\n",
       "Griffin High School      82.0\n",
       "Hernandez High School    77.0\n",
       "Holden High School       84.0\n",
       "Huang High School        77.0\n",
       "Johnson High School      77.0\n",
       "Pena High School         84.0\n",
       "Rodriguez High School    77.0\n",
       "Shelton High School      83.0\n",
       "Thomas High School       84.0\n",
       "Wilson High School       83.0\n",
       "Wright High School       83.0\n",
       "Name: math_score, dtype: float64"
      ]
     },
     "execution_count": 616,
     "metadata": {},
     "output_type": "execute_result"
    }
   ],
   "source": [
    "# Calculate the average math score for 9th grade in each school\n",
    "\n",
    "ninth_grade_math_scores = round(school_data_complete[school_data_complete['grade'] == '9th'].groupby('school_name')['math_score'].mean())\n",
    "ninth_grade_math_scores"
   ]
  },
  {
   "cell_type": "code",
   "execution_count": 617,
   "metadata": {},
   "outputs": [
    {
     "data": {
      "text/plain": [
       "school_name\n",
       "Bailey High School       77.0\n",
       "Cabrera High School      83.0\n",
       "Figueroa High School     77.0\n",
       "Ford High School         78.0\n",
       "Griffin High School      84.0\n",
       "Hernandez High School    77.0\n",
       "Holden High School       83.0\n",
       "Huang High School        76.0\n",
       "Johnson High School      77.0\n",
       "Pena High School         83.0\n",
       "Rodriguez High School    77.0\n",
       "Shelton High School      83.0\n",
       "Thomas High School       83.0\n",
       "Wilson High School       84.0\n",
       "Wright High School       84.0\n",
       "Name: math_score, dtype: float64"
      ]
     },
     "execution_count": 617,
     "metadata": {},
     "output_type": "execute_result"
    }
   ],
   "source": [
    "# Calculate the average math score for 10th grade in each school\n",
    "tenth_grade_math_scores = round(school_data_complete[school_data_complete['grade'] == '10th'].groupby('school_name')['math_score'].mean())\n",
    "tenth_grade_math_scores\n",
    "\n"
   ]
  },
  {
   "cell_type": "code",
   "execution_count": 618,
   "metadata": {},
   "outputs": [
    {
     "data": {
      "text/plain": [
       "school_name\n",
       "Bailey High School       78.0\n",
       "Cabrera High School      83.0\n",
       "Figueroa High School     77.0\n",
       "Ford High School         77.0\n",
       "Griffin High School      84.0\n",
       "Hernandez High School    77.0\n",
       "Holden High School       85.0\n",
       "Huang High School        76.0\n",
       "Johnson High School      77.0\n",
       "Pena High School         84.0\n",
       "Rodriguez High School    76.0\n",
       "Shelton High School      83.0\n",
       "Thomas High School       83.0\n",
       "Wilson High School       83.0\n",
       "Wright High School       84.0\n",
       "Name: math_score, dtype: float64"
      ]
     },
     "execution_count": 618,
     "metadata": {},
     "output_type": "execute_result"
    }
   ],
   "source": [
    "# Calculate the average math score for 11th grade in each school\n",
    "\n",
    "eleventh_grade_math_scores = round(school_data_complete[school_data_complete['grade'] == '11th'].groupby('school_name')['math_score'].mean())\n",
    "eleventh_grade_math_scores\n"
   ]
  },
  {
   "cell_type": "code",
   "execution_count": 619,
   "metadata": {},
   "outputs": [
    {
     "data": {
      "text/plain": [
       "school_name\n",
       "Bailey High School       76.0\n",
       "Cabrera High School      83.0\n",
       "Figueroa High School     77.0\n",
       "Ford High School         76.0\n",
       "Griffin High School      83.0\n",
       "Hernandez High School    77.0\n",
       "Holden High School       83.0\n",
       "Huang High School        77.0\n",
       "Johnson High School      77.0\n",
       "Pena High School         84.0\n",
       "Rodriguez High School    78.0\n",
       "Shelton High School      84.0\n",
       "Thomas High School       83.0\n",
       "Wilson High School       83.0\n",
       "Wright High School       84.0\n",
       "Name: math_score, dtype: float64"
      ]
     },
     "execution_count": 619,
     "metadata": {},
     "output_type": "execute_result"
    }
   ],
   "source": [
    "# Calculate the average math score for 12th grade in each school\n",
    "Twelveth_grade_math_scores = round(school_data_complete[school_data_complete['grade'] == '12th'].groupby('school_name')['math_score'].mean())\n",
    "Twelveth_grade_math_scores\n",
    "\n"
   ]
  },
  {
   "cell_type": "markdown",
   "metadata": {},
   "source": [
    "### Reading Score by Grade "
   ]
  },
  {
   "cell_type": "markdown",
   "metadata": {},
   "source": [
    "* Perform the same operations as above for reading scores"
   ]
  },
  {
   "cell_type": "code",
   "execution_count": 620,
   "metadata": {},
   "outputs": [
    {
     "data": {
      "text/html": [
       "<div>\n",
       "<style scoped>\n",
       "    .dataframe tbody tr th:only-of-type {\n",
       "        vertical-align: middle;\n",
       "    }\n",
       "\n",
       "    .dataframe tbody tr th {\n",
       "        vertical-align: top;\n",
       "    }\n",
       "\n",
       "    .dataframe thead th {\n",
       "        text-align: right;\n",
       "    }\n",
       "</style>\n",
       "<table border=\"1\" class=\"dataframe\">\n",
       "  <thead>\n",
       "    <tr style=\"text-align: right;\">\n",
       "      <th>school_name</th>\n",
       "      <th>Bailey High School</th>\n",
       "      <th>Cabrera High School</th>\n",
       "      <th>Figueroa High School</th>\n",
       "      <th>Ford High School</th>\n",
       "      <th>Griffin High School</th>\n",
       "      <th>Hernandez High School</th>\n",
       "      <th>Holden High School</th>\n",
       "      <th>Huang High School</th>\n",
       "      <th>Johnson High School</th>\n",
       "      <th>Pena High School</th>\n",
       "      <th>Rodriguez High School</th>\n",
       "      <th>Shelton High School</th>\n",
       "      <th>Thomas High School</th>\n",
       "      <th>Wilson High School</th>\n",
       "      <th>Wright High School</th>\n",
       "    </tr>\n",
       "    <tr>\n",
       "      <th>grade</th>\n",
       "      <th></th>\n",
       "      <th></th>\n",
       "      <th></th>\n",
       "      <th></th>\n",
       "      <th></th>\n",
       "      <th></th>\n",
       "      <th></th>\n",
       "      <th></th>\n",
       "      <th></th>\n",
       "      <th></th>\n",
       "      <th></th>\n",
       "      <th></th>\n",
       "      <th></th>\n",
       "      <th></th>\n",
       "      <th></th>\n",
       "    </tr>\n",
       "  </thead>\n",
       "  <tbody>\n",
       "    <tr>\n",
       "      <th>10th</th>\n",
       "      <td>81.0</td>\n",
       "      <td>84.0</td>\n",
       "      <td>81.0</td>\n",
       "      <td>81.0</td>\n",
       "      <td>84.0</td>\n",
       "      <td>81.0</td>\n",
       "      <td>83.0</td>\n",
       "      <td>82.0</td>\n",
       "      <td>81.0</td>\n",
       "      <td>84.0</td>\n",
       "      <td>81.0</td>\n",
       "      <td>83.0</td>\n",
       "      <td>84.0</td>\n",
       "      <td>84.0</td>\n",
       "      <td>84.0</td>\n",
       "    </tr>\n",
       "    <tr>\n",
       "      <th>11th</th>\n",
       "      <td>81.0</td>\n",
       "      <td>84.0</td>\n",
       "      <td>81.0</td>\n",
       "      <td>80.0</td>\n",
       "      <td>84.0</td>\n",
       "      <td>81.0</td>\n",
       "      <td>84.0</td>\n",
       "      <td>81.0</td>\n",
       "      <td>81.0</td>\n",
       "      <td>84.0</td>\n",
       "      <td>81.0</td>\n",
       "      <td>84.0</td>\n",
       "      <td>84.0</td>\n",
       "      <td>84.0</td>\n",
       "      <td>84.0</td>\n",
       "    </tr>\n",
       "    <tr>\n",
       "      <th>12th</th>\n",
       "      <td>81.0</td>\n",
       "      <td>84.0</td>\n",
       "      <td>81.0</td>\n",
       "      <td>81.0</td>\n",
       "      <td>84.0</td>\n",
       "      <td>81.0</td>\n",
       "      <td>85.0</td>\n",
       "      <td>80.0</td>\n",
       "      <td>81.0</td>\n",
       "      <td>85.0</td>\n",
       "      <td>80.0</td>\n",
       "      <td>83.0</td>\n",
       "      <td>84.0</td>\n",
       "      <td>84.0</td>\n",
       "      <td>84.0</td>\n",
       "    </tr>\n",
       "    <tr>\n",
       "      <th>9th</th>\n",
       "      <td>81.0</td>\n",
       "      <td>84.0</td>\n",
       "      <td>81.0</td>\n",
       "      <td>81.0</td>\n",
       "      <td>83.0</td>\n",
       "      <td>81.0</td>\n",
       "      <td>84.0</td>\n",
       "      <td>81.0</td>\n",
       "      <td>81.0</td>\n",
       "      <td>84.0</td>\n",
       "      <td>81.0</td>\n",
       "      <td>84.0</td>\n",
       "      <td>84.0</td>\n",
       "      <td>84.0</td>\n",
       "      <td>84.0</td>\n",
       "    </tr>\n",
       "  </tbody>\n",
       "</table>\n",
       "</div>"
      ],
      "text/plain": [
       "school_name  Bailey High School  Cabrera High School  Figueroa High School  \\\n",
       "grade                                                                        \n",
       "10th                       81.0                 84.0                  81.0   \n",
       "11th                       81.0                 84.0                  81.0   \n",
       "12th                       81.0                 84.0                  81.0   \n",
       "9th                        81.0                 84.0                  81.0   \n",
       "\n",
       "school_name  Ford High School  Griffin High School  Hernandez High School  \\\n",
       "grade                                                                       \n",
       "10th                     81.0                 84.0                   81.0   \n",
       "11th                     80.0                 84.0                   81.0   \n",
       "12th                     81.0                 84.0                   81.0   \n",
       "9th                      81.0                 83.0                   81.0   \n",
       "\n",
       "school_name  Holden High School  Huang High School  Johnson High School  \\\n",
       "grade                                                                     \n",
       "10th                       83.0               82.0                 81.0   \n",
       "11th                       84.0               81.0                 81.0   \n",
       "12th                       85.0               80.0                 81.0   \n",
       "9th                        84.0               81.0                 81.0   \n",
       "\n",
       "school_name  Pena High School  Rodriguez High School  Shelton High School  \\\n",
       "grade                                                                       \n",
       "10th                     84.0                   81.0                 83.0   \n",
       "11th                     84.0                   81.0                 84.0   \n",
       "12th                     85.0                   80.0                 83.0   \n",
       "9th                      84.0                   81.0                 84.0   \n",
       "\n",
       "school_name  Thomas High School  Wilson High School  Wright High School  \n",
       "grade                                                                    \n",
       "10th                       84.0                84.0                84.0  \n",
       "11th                       84.0                84.0                84.0  \n",
       "12th                       84.0                84.0                84.0  \n",
       "9th                        84.0                84.0                84.0  "
      ]
     },
     "execution_count": 620,
     "metadata": {},
     "output_type": "execute_result"
    }
   ],
   "source": [
    "# Create table that lists the average reading score for each school of each grade level.\n",
    "reading_scores_by_grade = round(school_data_complete.groupby(['grade','school_name'])['reading_score'].mean().unstack())\n",
    "reading_scores_by_grade\n"
   ]
  },
  {
   "cell_type": "code",
   "execution_count": 621,
   "metadata": {},
   "outputs": [
    {
     "data": {
      "text/plain": [
       "school_name\n",
       "Bailey High School       81.0\n",
       "Cabrera High School      84.0\n",
       "Figueroa High School     81.0\n",
       "Ford High School         81.0\n",
       "Griffin High School      83.0\n",
       "Hernandez High School    81.0\n",
       "Holden High School       84.0\n",
       "Huang High School        81.0\n",
       "Johnson High School      81.0\n",
       "Pena High School         84.0\n",
       "Rodriguez High School    81.0\n",
       "Shelton High School      84.0\n",
       "Thomas High School       84.0\n",
       "Wilson High School       84.0\n",
       "Wright High School       84.0\n",
       "Name: reading_score, dtype: float64"
      ]
     },
     "execution_count": 621,
     "metadata": {},
     "output_type": "execute_result"
    }
   ],
   "source": [
    "# Calculate the average reading score for 9th grade in each school\n",
    "ninth_grade_reading_scores = round(school_data_complete[school_data_complete['grade'] == '9th'].groupby('school_name')['reading_score'].mean())\n",
    "ninth_grade_reading_scores\n",
    "\n"
   ]
  },
  {
   "cell_type": "code",
   "execution_count": 622,
   "metadata": {},
   "outputs": [
    {
     "data": {
      "text/plain": [
       "school_name\n",
       "Bailey High School       81.0\n",
       "Cabrera High School      84.0\n",
       "Figueroa High School     81.0\n",
       "Ford High School         81.0\n",
       "Griffin High School      84.0\n",
       "Hernandez High School    81.0\n",
       "Holden High School       83.0\n",
       "Huang High School        82.0\n",
       "Johnson High School      81.0\n",
       "Pena High School         84.0\n",
       "Rodriguez High School    81.0\n",
       "Shelton High School      83.0\n",
       "Thomas High School       84.0\n",
       "Wilson High School       84.0\n",
       "Wright High School       84.0\n",
       "Name: reading_score, dtype: float64"
      ]
     },
     "execution_count": 622,
     "metadata": {},
     "output_type": "execute_result"
    }
   ],
   "source": [
    "# Calculate the average reading score for 10th grade in each school\n",
    "\n",
    "tenth_grade_reading_scores = round(school_data_complete[school_data_complete['grade'] == '10th'].groupby('school_name')['reading_score'].mean())\n",
    "tenth_grade_reading_scores\n"
   ]
  },
  {
   "cell_type": "code",
   "execution_count": 623,
   "metadata": {},
   "outputs": [
    {
     "data": {
      "text/plain": [
       "school_name\n",
       "Bailey High School       81.0\n",
       "Cabrera High School      84.0\n",
       "Figueroa High School     81.0\n",
       "Ford High School         80.0\n",
       "Griffin High School      84.0\n",
       "Hernandez High School    81.0\n",
       "Holden High School       84.0\n",
       "Huang High School        81.0\n",
       "Johnson High School      81.0\n",
       "Pena High School         84.0\n",
       "Rodriguez High School    81.0\n",
       "Shelton High School      84.0\n",
       "Thomas High School       84.0\n",
       "Wilson High School       84.0\n",
       "Wright High School       84.0\n",
       "Name: reading_score, dtype: float64"
      ]
     },
     "execution_count": 623,
     "metadata": {},
     "output_type": "execute_result"
    }
   ],
   "source": [
    "# Calculate the average reading score for 11th grade in each school\n",
    "\n",
    "eleventh_grade_reading_scores = round(school_data_complete[school_data_complete['grade'] == '11th'].groupby('school_name')['reading_score'].mean())\n",
    "eleventh_grade_reading_scores\n"
   ]
  },
  {
   "cell_type": "code",
   "execution_count": 624,
   "metadata": {},
   "outputs": [
    {
     "data": {
      "text/plain": [
       "school_name\n",
       "Bailey High School       81.0\n",
       "Cabrera High School      84.0\n",
       "Figueroa High School     81.0\n",
       "Ford High School         81.0\n",
       "Griffin High School      84.0\n",
       "Hernandez High School    81.0\n",
       "Holden High School       85.0\n",
       "Huang High School        80.0\n",
       "Johnson High School      81.0\n",
       "Pena High School         85.0\n",
       "Rodriguez High School    80.0\n",
       "Shelton High School      83.0\n",
       "Thomas High School       84.0\n",
       "Wilson High School       84.0\n",
       "Wright High School       84.0\n",
       "Name: reading_score, dtype: float64"
      ]
     },
     "execution_count": 624,
     "metadata": {},
     "output_type": "execute_result"
    }
   ],
   "source": [
    "# Calculate the average reading score for 12th grade in each school\n",
    "\n",
    "Twelveth_grade_reading_scores = round(school_data_complete[school_data_complete['grade'] == '12th'].groupby('school_name')['reading_score'].mean())\n",
    "Twelveth_grade_reading_scores"
   ]
  },
  {
   "cell_type": "markdown",
   "metadata": {},
   "source": [
    "## Scores by School Spending"
   ]
  },
  {
   "cell_type": "markdown",
   "metadata": {},
   "source": [
    "* Create a table that breaks down school performances based on average Spending Ranges (Per Student). Use 4 reasonable bins to group school spending. Include in the table each of the following:\n",
    "  * Average Math Score\n",
    "  * Average Reading Score\n",
    "  * % Passing Math\n",
    "  * % Passing Reading\n",
    "  * Overall Passing Rate (Average of the above two)"
   ]
  },
  {
   "cell_type": "code",
   "execution_count": 625,
   "metadata": {},
   "outputs": [],
   "source": [
    "# Sample bins. Feel free to create your own bins.\n",
    "spending_bins = [0, 585, 615, 645, 675]\n",
    "group_names = [\"<$585\", \"$585-615\", \"$615-645\", \"$645-675\"]"
   ]
  },
  {
   "cell_type": "code",
   "execution_count": 626,
   "metadata": {},
   "outputs": [
    {
     "data": {
      "text/html": [
       "<div>\n",
       "<style scoped>\n",
       "    .dataframe tbody tr th:only-of-type {\n",
       "        vertical-align: middle;\n",
       "    }\n",
       "\n",
       "    .dataframe tbody tr th {\n",
       "        vertical-align: top;\n",
       "    }\n",
       "\n",
       "    .dataframe thead th {\n",
       "        text-align: right;\n",
       "    }\n",
       "</style>\n",
       "<table border=\"1\" class=\"dataframe\">\n",
       "  <thead>\n",
       "    <tr style=\"text-align: right;\">\n",
       "      <th></th>\n",
       "      <th>Student ID</th>\n",
       "      <th>student_name</th>\n",
       "      <th>gender</th>\n",
       "      <th>grade</th>\n",
       "      <th>school_name</th>\n",
       "      <th>reading_score</th>\n",
       "      <th>math_score</th>\n",
       "      <th>School ID</th>\n",
       "      <th>type</th>\n",
       "      <th>size</th>\n",
       "      <th>budget</th>\n",
       "      <th>Budget per Student</th>\n",
       "    </tr>\n",
       "  </thead>\n",
       "  <tbody>\n",
       "    <tr>\n",
       "      <th>0</th>\n",
       "      <td>0</td>\n",
       "      <td>Paul Bradley</td>\n",
       "      <td>M</td>\n",
       "      <td>9th</td>\n",
       "      <td>Huang High School</td>\n",
       "      <td>66</td>\n",
       "      <td>79</td>\n",
       "      <td>0</td>\n",
       "      <td>District</td>\n",
       "      <td>2917</td>\n",
       "      <td>1910635</td>\n",
       "      <td>655.0</td>\n",
       "    </tr>\n",
       "    <tr>\n",
       "      <th>1</th>\n",
       "      <td>1</td>\n",
       "      <td>Victor Smith</td>\n",
       "      <td>M</td>\n",
       "      <td>12th</td>\n",
       "      <td>Huang High School</td>\n",
       "      <td>94</td>\n",
       "      <td>61</td>\n",
       "      <td>0</td>\n",
       "      <td>District</td>\n",
       "      <td>2917</td>\n",
       "      <td>1910635</td>\n",
       "      <td>655.0</td>\n",
       "    </tr>\n",
       "    <tr>\n",
       "      <th>2</th>\n",
       "      <td>2</td>\n",
       "      <td>Kevin Rodriguez</td>\n",
       "      <td>M</td>\n",
       "      <td>12th</td>\n",
       "      <td>Huang High School</td>\n",
       "      <td>90</td>\n",
       "      <td>60</td>\n",
       "      <td>0</td>\n",
       "      <td>District</td>\n",
       "      <td>2917</td>\n",
       "      <td>1910635</td>\n",
       "      <td>655.0</td>\n",
       "    </tr>\n",
       "    <tr>\n",
       "      <th>3</th>\n",
       "      <td>3</td>\n",
       "      <td>Dr. Richard Scott</td>\n",
       "      <td>M</td>\n",
       "      <td>12th</td>\n",
       "      <td>Huang High School</td>\n",
       "      <td>67</td>\n",
       "      <td>58</td>\n",
       "      <td>0</td>\n",
       "      <td>District</td>\n",
       "      <td>2917</td>\n",
       "      <td>1910635</td>\n",
       "      <td>655.0</td>\n",
       "    </tr>\n",
       "    <tr>\n",
       "      <th>4</th>\n",
       "      <td>4</td>\n",
       "      <td>Bonnie Ray</td>\n",
       "      <td>F</td>\n",
       "      <td>9th</td>\n",
       "      <td>Huang High School</td>\n",
       "      <td>97</td>\n",
       "      <td>84</td>\n",
       "      <td>0</td>\n",
       "      <td>District</td>\n",
       "      <td>2917</td>\n",
       "      <td>1910635</td>\n",
       "      <td>655.0</td>\n",
       "    </tr>\n",
       "  </tbody>\n",
       "</table>\n",
       "</div>"
      ],
      "text/plain": [
       "   Student ID       student_name gender grade        school_name  \\\n",
       "0           0       Paul Bradley      M   9th  Huang High School   \n",
       "1           1       Victor Smith      M  12th  Huang High School   \n",
       "2           2    Kevin Rodriguez      M  12th  Huang High School   \n",
       "3           3  Dr. Richard Scott      M  12th  Huang High School   \n",
       "4           4         Bonnie Ray      F   9th  Huang High School   \n",
       "\n",
       "   reading_score  math_score  School ID      type  size   budget  \\\n",
       "0             66          79          0  District  2917  1910635   \n",
       "1             94          61          0  District  2917  1910635   \n",
       "2             90          60          0  District  2917  1910635   \n",
       "3             67          58          0  District  2917  1910635   \n",
       "4             97          84          0  District  2917  1910635   \n",
       "\n",
       "   Budget per Student  \n",
       "0               655.0  \n",
       "1               655.0  \n",
       "2               655.0  \n",
       "3               655.0  \n",
       "4               655.0  "
      ]
     },
     "execution_count": 626,
     "metadata": {},
     "output_type": "execute_result"
    }
   ],
   "source": [
    "# Create a new column to show budget per student in each row\n",
    "\n",
    "school_data_complete[\"Budget per Student\"] = school_data_complete[\"budget\"] / school_data_complete[\"size\"]\n",
    "school_data_complete.head()\n"
   ]
  },
  {
   "cell_type": "code",
   "execution_count": 627,
   "metadata": {},
   "outputs": [
    {
     "data": {
      "text/html": [
       "<div>\n",
       "<style scoped>\n",
       "    .dataframe tbody tr th:only-of-type {\n",
       "        vertical-align: middle;\n",
       "    }\n",
       "\n",
       "    .dataframe tbody tr th {\n",
       "        vertical-align: top;\n",
       "    }\n",
       "\n",
       "    .dataframe thead th {\n",
       "        text-align: right;\n",
       "    }\n",
       "</style>\n",
       "<table border=\"1\" class=\"dataframe\">\n",
       "  <thead>\n",
       "    <tr style=\"text-align: right;\">\n",
       "      <th></th>\n",
       "      <th>Student ID</th>\n",
       "      <th>student_name</th>\n",
       "      <th>gender</th>\n",
       "      <th>grade</th>\n",
       "      <th>school_name</th>\n",
       "      <th>reading_score</th>\n",
       "      <th>math_score</th>\n",
       "      <th>School ID</th>\n",
       "      <th>type</th>\n",
       "      <th>size</th>\n",
       "      <th>budget</th>\n",
       "      <th>Budget per Student</th>\n",
       "      <th>Spending Ranges (Per Student)</th>\n",
       "    </tr>\n",
       "  </thead>\n",
       "  <tbody>\n",
       "    <tr>\n",
       "      <th>0</th>\n",
       "      <td>0</td>\n",
       "      <td>Paul Bradley</td>\n",
       "      <td>M</td>\n",
       "      <td>9th</td>\n",
       "      <td>Huang High School</td>\n",
       "      <td>66</td>\n",
       "      <td>79</td>\n",
       "      <td>0</td>\n",
       "      <td>District</td>\n",
       "      <td>2917</td>\n",
       "      <td>1910635</td>\n",
       "      <td>655.0</td>\n",
       "      <td>$645-675</td>\n",
       "    </tr>\n",
       "    <tr>\n",
       "      <th>1</th>\n",
       "      <td>1</td>\n",
       "      <td>Victor Smith</td>\n",
       "      <td>M</td>\n",
       "      <td>12th</td>\n",
       "      <td>Huang High School</td>\n",
       "      <td>94</td>\n",
       "      <td>61</td>\n",
       "      <td>0</td>\n",
       "      <td>District</td>\n",
       "      <td>2917</td>\n",
       "      <td>1910635</td>\n",
       "      <td>655.0</td>\n",
       "      <td>$645-675</td>\n",
       "    </tr>\n",
       "    <tr>\n",
       "      <th>2</th>\n",
       "      <td>2</td>\n",
       "      <td>Kevin Rodriguez</td>\n",
       "      <td>M</td>\n",
       "      <td>12th</td>\n",
       "      <td>Huang High School</td>\n",
       "      <td>90</td>\n",
       "      <td>60</td>\n",
       "      <td>0</td>\n",
       "      <td>District</td>\n",
       "      <td>2917</td>\n",
       "      <td>1910635</td>\n",
       "      <td>655.0</td>\n",
       "      <td>$645-675</td>\n",
       "    </tr>\n",
       "    <tr>\n",
       "      <th>3</th>\n",
       "      <td>3</td>\n",
       "      <td>Dr. Richard Scott</td>\n",
       "      <td>M</td>\n",
       "      <td>12th</td>\n",
       "      <td>Huang High School</td>\n",
       "      <td>67</td>\n",
       "      <td>58</td>\n",
       "      <td>0</td>\n",
       "      <td>District</td>\n",
       "      <td>2917</td>\n",
       "      <td>1910635</td>\n",
       "      <td>655.0</td>\n",
       "      <td>$645-675</td>\n",
       "    </tr>\n",
       "    <tr>\n",
       "      <th>4</th>\n",
       "      <td>4</td>\n",
       "      <td>Bonnie Ray</td>\n",
       "      <td>F</td>\n",
       "      <td>9th</td>\n",
       "      <td>Huang High School</td>\n",
       "      <td>97</td>\n",
       "      <td>84</td>\n",
       "      <td>0</td>\n",
       "      <td>District</td>\n",
       "      <td>2917</td>\n",
       "      <td>1910635</td>\n",
       "      <td>655.0</td>\n",
       "      <td>$645-675</td>\n",
       "    </tr>\n",
       "  </tbody>\n",
       "</table>\n",
       "</div>"
      ],
      "text/plain": [
       "   Student ID       student_name gender grade        school_name  \\\n",
       "0           0       Paul Bradley      M   9th  Huang High School   \n",
       "1           1       Victor Smith      M  12th  Huang High School   \n",
       "2           2    Kevin Rodriguez      M  12th  Huang High School   \n",
       "3           3  Dr. Richard Scott      M  12th  Huang High School   \n",
       "4           4         Bonnie Ray      F   9th  Huang High School   \n",
       "\n",
       "   reading_score  math_score  School ID      type  size   budget  \\\n",
       "0             66          79          0  District  2917  1910635   \n",
       "1             94          61          0  District  2917  1910635   \n",
       "2             90          60          0  District  2917  1910635   \n",
       "3             67          58          0  District  2917  1910635   \n",
       "4             97          84          0  District  2917  1910635   \n",
       "\n",
       "   Budget per Student Spending Ranges (Per Student)  \n",
       "0               655.0                      $645-675  \n",
       "1               655.0                      $645-675  \n",
       "2               655.0                      $645-675  \n",
       "3               655.0                      $645-675  \n",
       "4               655.0                      $645-675  "
      ]
     },
     "execution_count": 627,
     "metadata": {},
     "output_type": "execute_result"
    }
   ],
   "source": [
    "# Create a new column to define the spending ranges per student\n",
    "\n",
    "school_data_complete['Spending Ranges (Per Student)'] = pd.cut(school_data_complete['Budget per Student'], spending_bins, labels=group_names)\n",
    "school_data_complete.head()\n"
   ]
  },
  {
   "cell_type": "code",
   "execution_count": 628,
   "metadata": {},
   "outputs": [
    {
     "data": {
      "text/plain": [
       "Spending Ranges (Per Student)\n",
       "<$585       83.363065\n",
       "$585-615    83.529196\n",
       "$615-645    78.061635\n",
       "$645-675    77.049297\n",
       "Name: math_score, dtype: float64"
      ]
     },
     "execution_count": 628,
     "metadata": {},
     "output_type": "execute_result"
    }
   ],
   "source": [
    "# Calculate the average math score within each spending range\n",
    "\n",
    "\n",
    "math_score_spending_range = school_data_complete.groupby(\"Spending Ranges (Per Student)\")[\"math_score\"].mean()\n",
    "math_score_spending_range\n"
   ]
  },
  {
   "cell_type": "code",
   "execution_count": 629,
   "metadata": {},
   "outputs": [
    {
     "data": {
      "text/plain": [
       "Spending Ranges (Per Student)\n",
       "<$585       83.964039\n",
       "$585-615    83.838414\n",
       "$615-645    81.434088\n",
       "$645-675    81.005604\n",
       "Name: reading_score, dtype: float64"
      ]
     },
     "execution_count": 629,
     "metadata": {},
     "output_type": "execute_result"
    }
   ],
   "source": [
    "# Calculate the average reading score within each spending range\n",
    "reading_score_spending_range = school_data_complete.groupby(\"Spending Ranges (Per Student)\")[\"reading_score\"].mean()\n",
    "reading_score_spending_range"
   ]
  },
  {
   "cell_type": "code",
   "execution_count": 630,
   "metadata": {},
   "outputs": [
    {
     "data": {
      "text/plain": [
       "Spending Ranges (Per Student)\n",
       "<$585       93.702889\n",
       "$585-615    94.124128\n",
       "$615-645    71.400428\n",
       "$645-675    66.230813\n",
       "Name: math_score, dtype: float64"
      ]
     },
     "execution_count": 630,
     "metadata": {},
     "output_type": "execute_result"
    }
   ],
   "source": [
    "# Calculate the percentage passing rate for math in each spending range\n",
    "\n",
    "\n",
    "passing_math_spending_range = school_data_complete[school_data_complete[\"math_score\"] >= 70].groupby(\"Spending Ranges (Per Student)\")[\"math_score\"].count() / school_data_complete.groupby(\"Spending Ranges (Per Student)\")[\"math_score\"].count() * 100\n",
    "passing_math_spending_range\n"
   ]
  },
  {
   "cell_type": "code",
   "execution_count": 631,
   "metadata": {},
   "outputs": [
    {
     "data": {
      "text/plain": [
       "Spending Ranges (Per Student)\n",
       "<$585       96.686558\n",
       "$585-615    95.886889\n",
       "$615-645    83.614770\n",
       "$645-675    81.109397\n",
       "Name: reading_score, dtype: float64"
      ]
     },
     "execution_count": 631,
     "metadata": {},
     "output_type": "execute_result"
    }
   ],
   "source": [
    "# Calculate the percentage passing rate for reading in each spending range\n",
    "\n",
    "passing_reading_spending_range = school_data_complete[school_data_complete[\"reading_score\"] >= 70].groupby(\"Spending Ranges (Per Student)\")[\"reading_score\"].count() / school_data_complete.groupby(\"Spending Ranges (Per Student)\")[\"reading_score\"].count() * 100\n",
    "passing_reading_spending_range\n"
   ]
  },
  {
   "cell_type": "code",
   "execution_count": 632,
   "metadata": {},
   "outputs": [
    {
     "data": {
      "text/plain": [
       "Spending Ranges (Per Student)\n",
       "<$585       95.194724\n",
       "$585-615    95.005509\n",
       "$615-645    77.507599\n",
       "$645-675    73.670105\n",
       "dtype: float64"
      ]
     },
     "execution_count": 632,
     "metadata": {},
     "output_type": "execute_result"
    }
   ],
   "source": [
    "# Calculate the percentage overall passing rate in each spending range\n",
    "\n",
    "overall_passing_spending_range = (passing_math_spending_range + passing_reading_spending_range) / 2\n",
    "overall_passing_spending_range\n"
   ]
  },
  {
   "cell_type": "code",
   "execution_count": 633,
   "metadata": {},
   "outputs": [
    {
     "data": {
      "text/html": [
       "<div>\n",
       "<style scoped>\n",
       "    .dataframe tbody tr th:only-of-type {\n",
       "        vertical-align: middle;\n",
       "    }\n",
       "\n",
       "    .dataframe tbody tr th {\n",
       "        vertical-align: top;\n",
       "    }\n",
       "\n",
       "    .dataframe thead th {\n",
       "        text-align: right;\n",
       "    }\n",
       "</style>\n",
       "<table border=\"1\" class=\"dataframe\">\n",
       "  <thead>\n",
       "    <tr style=\"text-align: right;\">\n",
       "      <th></th>\n",
       "      <th>Average Math Score</th>\n",
       "      <th>Average Reading Score</th>\n",
       "      <th>Passing Math %</th>\n",
       "      <th>Passing Reading %</th>\n",
       "      <th>Overall Passing Rate %</th>\n",
       "    </tr>\n",
       "    <tr>\n",
       "      <th>Spending Ranges (Per Student)</th>\n",
       "      <th></th>\n",
       "      <th></th>\n",
       "      <th></th>\n",
       "      <th></th>\n",
       "      <th></th>\n",
       "    </tr>\n",
       "  </thead>\n",
       "  <tbody>\n",
       "    <tr>\n",
       "      <th>&lt;$585</th>\n",
       "      <td>83.0</td>\n",
       "      <td>84.0</td>\n",
       "      <td>94.0</td>\n",
       "      <td>97.0</td>\n",
       "      <td>95.0</td>\n",
       "    </tr>\n",
       "    <tr>\n",
       "      <th>$585-615</th>\n",
       "      <td>84.0</td>\n",
       "      <td>84.0</td>\n",
       "      <td>94.0</td>\n",
       "      <td>96.0</td>\n",
       "      <td>95.0</td>\n",
       "    </tr>\n",
       "    <tr>\n",
       "      <th>$615-645</th>\n",
       "      <td>78.0</td>\n",
       "      <td>81.0</td>\n",
       "      <td>71.0</td>\n",
       "      <td>84.0</td>\n",
       "      <td>78.0</td>\n",
       "    </tr>\n",
       "    <tr>\n",
       "      <th>$645-675</th>\n",
       "      <td>77.0</td>\n",
       "      <td>81.0</td>\n",
       "      <td>66.0</td>\n",
       "      <td>81.0</td>\n",
       "      <td>74.0</td>\n",
       "    </tr>\n",
       "  </tbody>\n",
       "</table>\n",
       "</div>"
      ],
      "text/plain": [
       "                               Average Math Score  Average Reading Score  \\\n",
       "Spending Ranges (Per Student)                                              \n",
       "<$585                                        83.0                   84.0   \n",
       "$585-615                                     84.0                   84.0   \n",
       "$615-645                                     78.0                   81.0   \n",
       "$645-675                                     77.0                   81.0   \n",
       "\n",
       "                               Passing Math %  Passing Reading %  \\\n",
       "Spending Ranges (Per Student)                                      \n",
       "<$585                                    94.0               97.0   \n",
       "$585-615                                 94.0               96.0   \n",
       "$615-645                                 71.0               84.0   \n",
       "$645-675                                 66.0               81.0   \n",
       "\n",
       "                               Overall Passing Rate %  \n",
       "Spending Ranges (Per Student)                          \n",
       "<$585                                            95.0  \n",
       "$585-615                                         95.0  \n",
       "$615-645                                         78.0  \n",
       "$645-675                                         74.0  "
      ]
     },
     "execution_count": 633,
     "metadata": {},
     "output_type": "execute_result"
    }
   ],
   "source": [
    "scores_by_school_spending_dataframe = pd.DataFrame({\n",
    "    \"Average Math Score\": math_score_spending_range,\n",
    "    \"Average Reading Score\": reading_score_spending_range,\n",
    "    \"Passing Math %\": passing_math_spending_range,\n",
    "    \"Passing Reading %\": passing_reading_spending_range,\n",
    "    \"Overall Passing Rate %\": overall_passing_spending_range\n",
    "})\n",
    "scores_by_school_spending_dataframe.index.name = \"Spending Ranges (Per Student)\"\n",
    "scores_by_school_spending_dataframe = scores_by_school_spending_dataframe.reindex(group_names)\n",
    "round(scores_by_school_spending_dataframe)"
   ]
  },
  {
   "cell_type": "markdown",
   "metadata": {},
   "source": [
    "### Scores by School Size"
   ]
  },
  {
   "cell_type": "markdown",
   "metadata": {},
   "source": [
    "* Perform the same operations as above, based on school size."
   ]
  },
  {
   "cell_type": "code",
   "execution_count": 634,
   "metadata": {},
   "outputs": [],
   "source": [
    "# Sample bins. Feel free to create your own bins.\n",
    "size_bins = [0, 1000, 2000, 5000]\n",
    "group_names = [\"Small (<1000)\", \"Medium (1000-2000)\", \"Large (2000-5000)\"]"
   ]
  },
  {
   "cell_type": "code",
   "execution_count": 638,
   "metadata": {},
   "outputs": [
    {
     "data": {
      "text/html": [
       "<div>\n",
       "<style scoped>\n",
       "    .dataframe tbody tr th:only-of-type {\n",
       "        vertical-align: middle;\n",
       "    }\n",
       "\n",
       "    .dataframe tbody tr th {\n",
       "        vertical-align: top;\n",
       "    }\n",
       "\n",
       "    .dataframe thead th {\n",
       "        text-align: right;\n",
       "    }\n",
       "</style>\n",
       "<table border=\"1\" class=\"dataframe\">\n",
       "  <thead>\n",
       "    <tr style=\"text-align: right;\">\n",
       "      <th></th>\n",
       "      <th>Student ID</th>\n",
       "      <th>student_name</th>\n",
       "      <th>gender</th>\n",
       "      <th>grade</th>\n",
       "      <th>school_name</th>\n",
       "      <th>reading_score</th>\n",
       "      <th>math_score</th>\n",
       "      <th>School ID</th>\n",
       "      <th>type</th>\n",
       "      <th>size</th>\n",
       "      <th>budget</th>\n",
       "      <th>Budget per Student</th>\n",
       "      <th>Spending Ranges (Per Student)</th>\n",
       "      <th>Size Bins</th>\n",
       "    </tr>\n",
       "  </thead>\n",
       "  <tbody>\n",
       "    <tr>\n",
       "      <th>0</th>\n",
       "      <td>0</td>\n",
       "      <td>Paul Bradley</td>\n",
       "      <td>M</td>\n",
       "      <td>9th</td>\n",
       "      <td>Huang High School</td>\n",
       "      <td>66</td>\n",
       "      <td>79</td>\n",
       "      <td>0</td>\n",
       "      <td>District</td>\n",
       "      <td>2917</td>\n",
       "      <td>1910635</td>\n",
       "      <td>655.0</td>\n",
       "      <td>$645-675</td>\n",
       "      <td>Large (2000-5000)</td>\n",
       "    </tr>\n",
       "    <tr>\n",
       "      <th>1</th>\n",
       "      <td>1</td>\n",
       "      <td>Victor Smith</td>\n",
       "      <td>M</td>\n",
       "      <td>12th</td>\n",
       "      <td>Huang High School</td>\n",
       "      <td>94</td>\n",
       "      <td>61</td>\n",
       "      <td>0</td>\n",
       "      <td>District</td>\n",
       "      <td>2917</td>\n",
       "      <td>1910635</td>\n",
       "      <td>655.0</td>\n",
       "      <td>$645-675</td>\n",
       "      <td>Large (2000-5000)</td>\n",
       "    </tr>\n",
       "    <tr>\n",
       "      <th>2</th>\n",
       "      <td>2</td>\n",
       "      <td>Kevin Rodriguez</td>\n",
       "      <td>M</td>\n",
       "      <td>12th</td>\n",
       "      <td>Huang High School</td>\n",
       "      <td>90</td>\n",
       "      <td>60</td>\n",
       "      <td>0</td>\n",
       "      <td>District</td>\n",
       "      <td>2917</td>\n",
       "      <td>1910635</td>\n",
       "      <td>655.0</td>\n",
       "      <td>$645-675</td>\n",
       "      <td>Large (2000-5000)</td>\n",
       "    </tr>\n",
       "    <tr>\n",
       "      <th>3</th>\n",
       "      <td>3</td>\n",
       "      <td>Dr. Richard Scott</td>\n",
       "      <td>M</td>\n",
       "      <td>12th</td>\n",
       "      <td>Huang High School</td>\n",
       "      <td>67</td>\n",
       "      <td>58</td>\n",
       "      <td>0</td>\n",
       "      <td>District</td>\n",
       "      <td>2917</td>\n",
       "      <td>1910635</td>\n",
       "      <td>655.0</td>\n",
       "      <td>$645-675</td>\n",
       "      <td>Large (2000-5000)</td>\n",
       "    </tr>\n",
       "    <tr>\n",
       "      <th>4</th>\n",
       "      <td>4</td>\n",
       "      <td>Bonnie Ray</td>\n",
       "      <td>F</td>\n",
       "      <td>9th</td>\n",
       "      <td>Huang High School</td>\n",
       "      <td>97</td>\n",
       "      <td>84</td>\n",
       "      <td>0</td>\n",
       "      <td>District</td>\n",
       "      <td>2917</td>\n",
       "      <td>1910635</td>\n",
       "      <td>655.0</td>\n",
       "      <td>$645-675</td>\n",
       "      <td>Large (2000-5000)</td>\n",
       "    </tr>\n",
       "  </tbody>\n",
       "</table>\n",
       "</div>"
      ],
      "text/plain": [
       "   Student ID       student_name gender grade        school_name  \\\n",
       "0           0       Paul Bradley      M   9th  Huang High School   \n",
       "1           1       Victor Smith      M  12th  Huang High School   \n",
       "2           2    Kevin Rodriguez      M  12th  Huang High School   \n",
       "3           3  Dr. Richard Scott      M  12th  Huang High School   \n",
       "4           4         Bonnie Ray      F   9th  Huang High School   \n",
       "\n",
       "   reading_score  math_score  School ID      type  size   budget  \\\n",
       "0             66          79          0  District  2917  1910635   \n",
       "1             94          61          0  District  2917  1910635   \n",
       "2             90          60          0  District  2917  1910635   \n",
       "3             67          58          0  District  2917  1910635   \n",
       "4             97          84          0  District  2917  1910635   \n",
       "\n",
       "   Budget per Student Spending Ranges (Per Student)          Size Bins  \n",
       "0               655.0                      $645-675  Large (2000-5000)  \n",
       "1               655.0                      $645-675  Large (2000-5000)  \n",
       "2               655.0                      $645-675  Large (2000-5000)  \n",
       "3               655.0                      $645-675  Large (2000-5000)  \n",
       "4               655.0                      $645-675  Large (2000-5000)  "
      ]
     },
     "execution_count": 638,
     "metadata": {},
     "output_type": "execute_result"
    }
   ],
   "source": [
    "# Create a new column for the bin groups\n",
    "school_data_complete['Size Bins'] = pd.cut(school_data_complete['size'], size_bins, labels=group_names)\n",
    "school_data_complete.head()"
   ]
  },
  {
   "cell_type": "code",
   "execution_count": 646,
   "metadata": {},
   "outputs": [
    {
     "data": {
      "text/plain": [
       "Size Bins\n",
       "Small (<1000)         83.828654\n",
       "Medium (1000-2000)    83.372682\n",
       "Large (2000-5000)     77.477597\n",
       "Name: math_score, dtype: float64"
      ]
     },
     "execution_count": 646,
     "metadata": {},
     "output_type": "execute_result"
    }
   ],
   "source": [
    "# Calculate the average math score within School Size\n",
    "\n",
    "math_score_school_size = school_data_complete.groupby(\"Size Bins\")[\"math_score\"].mean()\n",
    "math_score_school_size"
   ]
  },
  {
   "cell_type": "code",
   "execution_count": 640,
   "metadata": {},
   "outputs": [
    {
     "data": {
      "text/plain": [
       "Size Bins\n",
       "Small (<1000)         83.974082\n",
       "Medium (1000-2000)    83.867989\n",
       "Large (2000-5000)     81.198674\n",
       "Name: reading_score, dtype: float64"
      ]
     },
     "execution_count": 640,
     "metadata": {},
     "output_type": "execute_result"
    }
   ],
   "source": [
    "# Calculate the average reading score within School Size\n",
    "\n",
    "reading_score_school_size = school_data_complete.groupby(\"Size Bins\")[\"reading_score\"].mean()\n",
    "reading_score_school_size"
   ]
  },
  {
   "cell_type": "markdown",
   "metadata": {},
   "source": [
    "Look for the total count of test scores that pass 70% or higher\n",
    "\n",
    "\n"
   ]
  },
  {
   "cell_type": "code",
   "execution_count": 641,
   "metadata": {},
   "outputs": [
    {
     "data": {
      "text/plain": [
       "Size Bins\n",
       "Small (<1000)         93.952484\n",
       "Medium (1000-2000)    93.616522\n",
       "Large (2000-5000)     68.652380\n",
       "Name: math_score, dtype: float64"
      ]
     },
     "execution_count": 641,
     "metadata": {},
     "output_type": "execute_result"
    }
   ],
   "source": [
    "# math_pass_size\n",
    "\n",
    "passing_math_school_size = school_data_complete[school_data_complete[\"math_score\"] >= 70].groupby(\"Size Bins\")[\"math_score\"].count() / school_data_complete.groupby(\"Size Bins\")[\"math_score\"].count() * 100\n",
    "passing_math_school_size\n"
   ]
  },
  {
   "cell_type": "code",
   "execution_count": 642,
   "metadata": {},
   "outputs": [
    {
     "data": {
      "text/plain": [
       "Size Bins\n",
       "Small (<1000)         96.040317\n",
       "Medium (1000-2000)    96.773058\n",
       "Large (2000-5000)     82.125158\n",
       "Name: reading_score, dtype: float64"
      ]
     },
     "execution_count": 642,
     "metadata": {},
     "output_type": "execute_result"
    }
   ],
   "source": [
    "# read_pass_size\n",
    "\n",
    "passing_reading_school_size = school_data_complete[school_data_complete[\"reading_score\"] >= 70].groupby(\"Size Bins\")[\"reading_score\"].count() / school_data_complete.groupby(\"Size Bins\")[\"reading_score\"].count() * 100\n",
    "passing_reading_school_size\n"
   ]
  },
  {
   "cell_type": "code",
   "execution_count": 643,
   "metadata": {},
   "outputs": [
    {
     "data": {
      "text/plain": [
       "Size Bins\n",
       "Small (<1000)         94.996400\n",
       "Medium (1000-2000)    95.194790\n",
       "Large (2000-5000)     75.388769\n",
       "dtype: float64"
      ]
     },
     "execution_count": 643,
     "metadata": {},
     "output_type": "execute_result"
    }
   ],
   "source": [
    "# Calculate the overall passing rate for different school size\n",
    "\n",
    "overall_passing_school_size = (passing_math_school_size + passing_reading_school_size) / 2\n",
    "overall_passing_school_size\n"
   ]
  },
  {
   "cell_type": "code",
   "execution_count": 647,
   "metadata": {},
   "outputs": [
    {
     "data": {
      "text/html": [
       "<div>\n",
       "<style scoped>\n",
       "    .dataframe tbody tr th:only-of-type {\n",
       "        vertical-align: middle;\n",
       "    }\n",
       "\n",
       "    .dataframe tbody tr th {\n",
       "        vertical-align: top;\n",
       "    }\n",
       "\n",
       "    .dataframe thead th {\n",
       "        text-align: right;\n",
       "    }\n",
       "</style>\n",
       "<table border=\"1\" class=\"dataframe\">\n",
       "  <thead>\n",
       "    <tr style=\"text-align: right;\">\n",
       "      <th></th>\n",
       "      <th>Average Math Score</th>\n",
       "      <th>Average Reading Score</th>\n",
       "      <th>Passing Math %</th>\n",
       "      <th>Passing Reading %</th>\n",
       "      <th>Overall Passing Rate %</th>\n",
       "    </tr>\n",
       "    <tr>\n",
       "      <th>Size Bins</th>\n",
       "      <th></th>\n",
       "      <th></th>\n",
       "      <th></th>\n",
       "      <th></th>\n",
       "      <th></th>\n",
       "    </tr>\n",
       "  </thead>\n",
       "  <tbody>\n",
       "    <tr>\n",
       "      <th>Small (&lt;1000)</th>\n",
       "      <td>84.0</td>\n",
       "      <td>84.0</td>\n",
       "      <td>94.0</td>\n",
       "      <td>96.0</td>\n",
       "      <td>95.0</td>\n",
       "    </tr>\n",
       "    <tr>\n",
       "      <th>Medium (1000-2000)</th>\n",
       "      <td>83.0</td>\n",
       "      <td>84.0</td>\n",
       "      <td>94.0</td>\n",
       "      <td>97.0</td>\n",
       "      <td>95.0</td>\n",
       "    </tr>\n",
       "    <tr>\n",
       "      <th>Large (2000-5000)</th>\n",
       "      <td>77.0</td>\n",
       "      <td>81.0</td>\n",
       "      <td>69.0</td>\n",
       "      <td>82.0</td>\n",
       "      <td>75.0</td>\n",
       "    </tr>\n",
       "  </tbody>\n",
       "</table>\n",
       "</div>"
      ],
      "text/plain": [
       "                    Average Math Score  Average Reading Score  Passing Math %  \\\n",
       "Size Bins                                                                       \n",
       "Small (<1000)                     84.0                   84.0            94.0   \n",
       "Medium (1000-2000)                83.0                   84.0            94.0   \n",
       "Large (2000-5000)                 77.0                   81.0            69.0   \n",
       "\n",
       "                    Passing Reading %  Overall Passing Rate %  \n",
       "Size Bins                                                      \n",
       "Small (<1000)                    96.0                    95.0  \n",
       "Medium (1000-2000)               97.0                    95.0  \n",
       "Large (2000-5000)                82.0                    75.0  "
      ]
     },
     "execution_count": 647,
     "metadata": {},
     "output_type": "execute_result"
    }
   ],
   "source": [
    "scores_by_school_size_dataframe = pd.DataFrame({\n",
    "    \"Average Math Score\": math_score_school_size,\n",
    "    \"Average Reading Score\": reading_score_school_size,\n",
    "    \"Passing Math %\": passing_math_school_size,\n",
    "    \"Passing Reading %\": passing_reading_school_size,\n",
    "    \"Overall Passing Rate %\": overall_passing_school_size\n",
    "})\n",
    "scores_by_school_size_dataframe.index.name = \"Size Bins\"\n",
    "scores_by_school_size_dataframe = scores_by_school_size_dataframe.reindex(group_names)\n",
    "round(scores_by_school_size_dataframe)"
   ]
  },
  {
   "cell_type": "markdown",
   "metadata": {},
   "source": [
    "### Scores by School Type"
   ]
  },
  {
   "cell_type": "markdown",
   "metadata": {},
   "source": [
    "* Perform the same operations as above, based on school type."
   ]
  },
  {
   "cell_type": "code",
   "execution_count": 656,
   "metadata": {},
   "outputs": [],
   "source": [
    "# Create bins and groups, school type {'Charter', 'District'}\n",
    "type_bins = ['Charter', 'District']\n",
    "group_names = ['Charter', 'District']\n"
   ]
  },
  {
   "cell_type": "code",
   "execution_count": 658,
   "metadata": {},
   "outputs": [
    {
     "data": {
      "text/plain": [
       "type\n",
       "Charter     83.406183\n",
       "District    76.987026\n",
       "Name: math_score, dtype: float64"
      ]
     },
     "execution_count": 658,
     "metadata": {},
     "output_type": "execute_result"
    }
   ],
   "source": [
    "# Calculate the average math score within School Type\n",
    "\n",
    "math_score_school_type = school_data_complete.groupby(\"type\")[\"math_score\"].mean()\n",
    "math_score_school_type"
   ]
  },
  {
   "cell_type": "code",
   "execution_count": 659,
   "metadata": {},
   "outputs": [
    {
     "data": {
      "text/plain": [
       "type\n",
       "Charter     83.902821\n",
       "District    80.962485\n",
       "Name: reading_score, dtype: float64"
      ]
     },
     "execution_count": 659,
     "metadata": {},
     "output_type": "execute_result"
    }
   ],
   "source": [
    "# Calculate the average reading score within School Type\n",
    "\n",
    "reading_score_school_type = school_data_complete.groupby(\"type\")[\"reading_score\"].mean()\n",
    "reading_score_school_type"
   ]
  },
  {
   "cell_type": "markdown",
   "metadata": {},
   "source": [
    "Find counts of the passing 70 or higher score for the both test\n"
   ]
  },
  {
   "cell_type": "code",
   "execution_count": 660,
   "metadata": {},
   "outputs": [
    {
     "data": {
      "text/plain": [
       "type\n",
       "Charter     93.701821\n",
       "District    66.518387\n",
       "Name: math_score, dtype: float64"
      ]
     },
     "execution_count": 660,
     "metadata": {},
     "output_type": "execute_result"
    }
   ],
   "source": [
    "# math pass size\n",
    "\n",
    "passing_math_school_type = school_data_complete[school_data_complete[\"math_score\"] >= 70].groupby(\"type\")[\"math_score\"].count() / school_data_complete.groupby(\"type\")[\"math_score\"].count() * 100\n",
    "passing_math_school_type\n"
   ]
  },
  {
   "cell_type": "code",
   "execution_count": 661,
   "metadata": {},
   "outputs": [
    {
     "data": {
      "text/plain": [
       "type\n",
       "Charter     96.645891\n",
       "District    80.905249\n",
       "Name: reading_score, dtype: float64"
      ]
     },
     "execution_count": 661,
     "metadata": {},
     "output_type": "execute_result"
    }
   ],
   "source": [
    "# reading pass size\n",
    "passing_reading_school_type = school_data_complete[school_data_complete[\"reading_score\"] >= 70].groupby(\"type\")[\"reading_score\"].count() / school_data_complete.groupby(\"type\")[\"reading_score\"].count() * 100\n",
    "passing_reading_school_type\n"
   ]
  },
  {
   "cell_type": "code",
   "execution_count": 662,
   "metadata": {},
   "outputs": [
    {
     "data": {
      "text/plain": [
       "type\n",
       "Charter     95.173856\n",
       "District    73.711818\n",
       "dtype: float64"
      ]
     },
     "execution_count": 662,
     "metadata": {},
     "output_type": "execute_result"
    }
   ],
   "source": [
    "# Calculate the overall passing rate\n",
    "\n",
    "overall_passing_school_type = (passing_math_school_type + passing_reading_school_type) / 2\n",
    "overall_passing_school_type"
   ]
  },
  {
   "cell_type": "code",
   "execution_count": 663,
   "metadata": {},
   "outputs": [
    {
     "data": {
      "text/html": [
       "<div>\n",
       "<style scoped>\n",
       "    .dataframe tbody tr th:only-of-type {\n",
       "        vertical-align: middle;\n",
       "    }\n",
       "\n",
       "    .dataframe tbody tr th {\n",
       "        vertical-align: top;\n",
       "    }\n",
       "\n",
       "    .dataframe thead th {\n",
       "        text-align: right;\n",
       "    }\n",
       "</style>\n",
       "<table border=\"1\" class=\"dataframe\">\n",
       "  <thead>\n",
       "    <tr style=\"text-align: right;\">\n",
       "      <th></th>\n",
       "      <th>Average Math Score</th>\n",
       "      <th>Average Reading Score</th>\n",
       "      <th>Passing Math %</th>\n",
       "      <th>Passing Reading %</th>\n",
       "      <th>Overall Passing Rate %</th>\n",
       "    </tr>\n",
       "    <tr>\n",
       "      <th>type</th>\n",
       "      <th></th>\n",
       "      <th></th>\n",
       "      <th></th>\n",
       "      <th></th>\n",
       "      <th></th>\n",
       "    </tr>\n",
       "  </thead>\n",
       "  <tbody>\n",
       "    <tr>\n",
       "      <th>Charter</th>\n",
       "      <td>83.0</td>\n",
       "      <td>84.0</td>\n",
       "      <td>94.0</td>\n",
       "      <td>97.0</td>\n",
       "      <td>95.0</td>\n",
       "    </tr>\n",
       "    <tr>\n",
       "      <th>District</th>\n",
       "      <td>77.0</td>\n",
       "      <td>81.0</td>\n",
       "      <td>67.0</td>\n",
       "      <td>81.0</td>\n",
       "      <td>74.0</td>\n",
       "    </tr>\n",
       "  </tbody>\n",
       "</table>\n",
       "</div>"
      ],
      "text/plain": [
       "          Average Math Score  Average Reading Score  Passing Math %  \\\n",
       "type                                                                  \n",
       "Charter                 83.0                   84.0            94.0   \n",
       "District                77.0                   81.0            67.0   \n",
       "\n",
       "          Passing Reading %  Overall Passing Rate %  \n",
       "type                                                 \n",
       "Charter                97.0                    95.0  \n",
       "District               81.0                    74.0  "
      ]
     },
     "execution_count": 663,
     "metadata": {},
     "output_type": "execute_result"
    }
   ],
   "source": [
    "scores_by_school_type_dataframe = pd.DataFrame({\n",
    "    \"Average Math Score\": math_score_school_type,\n",
    "    \"Average Reading Score\": reading_score_school_type,\n",
    "    \"Passing Math %\": passing_math_school_type,\n",
    "    \"Passing Reading %\": passing_reading_school_type,\n",
    "    \"Overall Passing Rate %\": overall_passing_school_type\n",
    "})\n",
    "scores_by_school_type_dataframe.index.name = \"type\"\n",
    "scores_by_school_size_dataframe = scores_by_school_type_dataframe.reindex(group_names)\n",
    "round(scores_by_school_type_dataframe)"
   ]
  }
 ],
 "metadata": {
  "anaconda-cloud": {},
  "kernel_info": {
   "name": "python3"
  },
  "kernelspec": {
   "display_name": "Python 3 (ipykernel)",
   "language": "python",
   "name": "python3"
  },
  "language_info": {
   "codemirror_mode": {
    "name": "ipython",
    "version": 3
   },
   "file_extension": ".py",
   "mimetype": "text/x-python",
   "name": "python",
   "nbconvert_exporter": "python",
   "pygments_lexer": "ipython3",
   "version": "3.9.13"
  },
  "latex_envs": {
   "LaTeX_envs_menu_present": true,
   "autoclose": false,
   "autocomplete": true,
   "bibliofile": "biblio.bib",
   "cite_by": "apalike",
   "current_citInitial": 1,
   "eqLabelWithNumbers": true,
   "eqNumInitial": 1,
   "hotkeys": {
    "equation": "Ctrl-E",
    "itemize": "Ctrl-I"
   },
   "labels_anchors": false,
   "latex_user_defs": false,
   "report_style_numbering": false,
   "user_envs_cfg": false
  },
  "nteract": {
   "version": "0.8.4"
  },
  "toc": {
   "base_numbering": 1,
   "nav_menu": {},
   "number_sections": true,
   "sideBar": true,
   "skip_h1_title": false,
   "title_cell": "Table of Contents",
   "title_sidebar": "Contents",
   "toc_cell": false,
   "toc_position": {},
   "toc_section_display": true,
   "toc_window_display": false
  }
 },
 "nbformat": 4,
 "nbformat_minor": 1
}
